{
 "cells": [
  {
   "cell_type": "code",
   "execution_count": 1,
   "metadata": {},
   "outputs": [
    {
     "name": "stderr",
     "output_type": "stream",
     "text": [
      "Using TensorFlow backend.\n"
     ]
    }
   ],
   "source": [
    "from __future__ import print_function\n",
    "import os\n",
    "import re\n",
    "import tqdm\n",
    "import string\n",
    "import pandas as pd\n",
    "import numpy as np\n",
    "import keras"
   ]
  },
  {
   "cell_type": "code",
   "execution_count": 2,
   "metadata": {},
   "outputs": [
    {
     "name": "stdout",
     "output_type": "stream",
     "text": [
      "Number of training variants: 3321\n",
      "Number of test variants: 5668\n"
     ]
    }
   ],
   "source": [
    "train_variant = pd.read_csv(\"C:/Users/lenovo/Desktop/EC601/Project/data/training_variants\")\n",
    "test_variant = pd.read_csv(\"C:/Users/lenovo/Desktop/EC601/Project/data/test_variants\")\n",
    "train_text = pd.read_csv(\"C:/Users/lenovo/Desktop/EC601/Project/data/training_text\", sep=\"\\|\\|\", engine='python', header=None, skiprows=1, names=[\"ID\",\"Text\"])\n",
    "test_text = pd.read_csv(\"C:/Users/lenovo/Desktop/EC601/Project/data/test_text\", sep=\"\\|\\|\", engine='python', header=None, skiprows=1, names=[\"ID\",\"Text\"])\n",
    "train = pd.merge(train_variant, train_text, how='left', on='ID')\n",
    "train_y = train['Class'].values\n",
    "train_x = train.drop('Class', axis=1)\n",
    "train_size=len(train_x)\n",
    "print('Number of training variants: %d' % (train_size))\n",
    "# number of train data : 3321\n",
    "\n",
    "test_x = pd.merge(test_variant, test_text, how='left', on='ID')\n",
    "test_size=len(test_x)\n",
    "print('Number of test variants: %d' % (test_size))\n",
    "# number of test data : 5668\n",
    "\n",
    "test_index = test_x['ID'].values\n",
    "all_data = np.concatenate((train_x, test_x), axis=0)\n",
    "all_data = pd.DataFrame(all_data)\n",
    "all_data.columns = [\"ID\", \"Gene\", \"Variation\", \"Text\"]\n"
   ]
  },
  {
   "cell_type": "code",
   "execution_count": 3,
   "metadata": {},
   "outputs": [
    {
     "data": {
      "text/html": [
       "<div>\n",
       "<style>\n",
       "    .dataframe thead tr:only-child th {\n",
       "        text-align: right;\n",
       "    }\n",
       "\n",
       "    .dataframe thead th {\n",
       "        text-align: left;\n",
       "    }\n",
       "\n",
       "    .dataframe tbody tr th {\n",
       "        vertical-align: top;\n",
       "    }\n",
       "</style>\n",
       "<table border=\"1\" class=\"dataframe\">\n",
       "  <thead>\n",
       "    <tr style=\"text-align: right;\">\n",
       "      <th></th>\n",
       "      <th>ID</th>\n",
       "      <th>Gene</th>\n",
       "      <th>Variation</th>\n",
       "      <th>Text</th>\n",
       "    </tr>\n",
       "  </thead>\n",
       "  <tbody>\n",
       "    <tr>\n",
       "      <th>0</th>\n",
       "      <td>0</td>\n",
       "      <td>FAM58A</td>\n",
       "      <td>Truncating Mutations</td>\n",
       "      <td>Cyclin-dependent kinases (CDKs) regulate a var...</td>\n",
       "    </tr>\n",
       "    <tr>\n",
       "      <th>1</th>\n",
       "      <td>1</td>\n",
       "      <td>CBL</td>\n",
       "      <td>W802*</td>\n",
       "      <td>Abstract Background  Non-small cell lung canc...</td>\n",
       "    </tr>\n",
       "    <tr>\n",
       "      <th>2</th>\n",
       "      <td>2</td>\n",
       "      <td>CBL</td>\n",
       "      <td>Q249E</td>\n",
       "      <td>Abstract Background  Non-small cell lung canc...</td>\n",
       "    </tr>\n",
       "    <tr>\n",
       "      <th>3</th>\n",
       "      <td>3</td>\n",
       "      <td>CBL</td>\n",
       "      <td>N454D</td>\n",
       "      <td>Recent evidence has demonstrated that acquired...</td>\n",
       "    </tr>\n",
       "    <tr>\n",
       "      <th>4</th>\n",
       "      <td>4</td>\n",
       "      <td>CBL</td>\n",
       "      <td>L399V</td>\n",
       "      <td>Oncogenic mutations in the monomeric Casitas B...</td>\n",
       "    </tr>\n",
       "    <tr>\n",
       "      <th>5</th>\n",
       "      <td>5</td>\n",
       "      <td>CBL</td>\n",
       "      <td>V391I</td>\n",
       "      <td>Oncogenic mutations in the monomeric Casitas B...</td>\n",
       "    </tr>\n",
       "    <tr>\n",
       "      <th>6</th>\n",
       "      <td>6</td>\n",
       "      <td>CBL</td>\n",
       "      <td>V430M</td>\n",
       "      <td>Oncogenic mutations in the monomeric Casitas B...</td>\n",
       "    </tr>\n",
       "    <tr>\n",
       "      <th>7</th>\n",
       "      <td>7</td>\n",
       "      <td>CBL</td>\n",
       "      <td>Deletion</td>\n",
       "      <td>CBL is a negative regulator of activated recep...</td>\n",
       "    </tr>\n",
       "    <tr>\n",
       "      <th>8</th>\n",
       "      <td>8</td>\n",
       "      <td>CBL</td>\n",
       "      <td>Y371H</td>\n",
       "      <td>Abstract Juvenile myelomonocytic leukemia (JM...</td>\n",
       "    </tr>\n",
       "    <tr>\n",
       "      <th>9</th>\n",
       "      <td>9</td>\n",
       "      <td>CBL</td>\n",
       "      <td>C384R</td>\n",
       "      <td>Abstract Juvenile myelomonocytic leukemia (JM...</td>\n",
       "    </tr>\n",
       "    <tr>\n",
       "      <th>10</th>\n",
       "      <td>10</td>\n",
       "      <td>CBL</td>\n",
       "      <td>P395A</td>\n",
       "      <td>Oncogenic mutations in the monomeric Casitas B...</td>\n",
       "    </tr>\n",
       "    <tr>\n",
       "      <th>11</th>\n",
       "      <td>11</td>\n",
       "      <td>CBL</td>\n",
       "      <td>K382E</td>\n",
       "      <td>Noonan syndrome is an autosomal dominant conge...</td>\n",
       "    </tr>\n",
       "    <tr>\n",
       "      <th>12</th>\n",
       "      <td>12</td>\n",
       "      <td>CBL</td>\n",
       "      <td>R420Q</td>\n",
       "      <td>Noonan syndrome is an autosomal dominant conge...</td>\n",
       "    </tr>\n",
       "    <tr>\n",
       "      <th>13</th>\n",
       "      <td>13</td>\n",
       "      <td>CBL</td>\n",
       "      <td>C381A</td>\n",
       "      <td>Noonan syndrome is an autosomal dominant conge...</td>\n",
       "    </tr>\n",
       "    <tr>\n",
       "      <th>14</th>\n",
       "      <td>14</td>\n",
       "      <td>CBL</td>\n",
       "      <td>P428L</td>\n",
       "      <td>Oncogenic mutations in the monomeric Casitas B...</td>\n",
       "    </tr>\n",
       "    <tr>\n",
       "      <th>15</th>\n",
       "      <td>15</td>\n",
       "      <td>CBL</td>\n",
       "      <td>D390Y</td>\n",
       "      <td>Noonan syndrome is an autosomal dominant conge...</td>\n",
       "    </tr>\n",
       "    <tr>\n",
       "      <th>16</th>\n",
       "      <td>16</td>\n",
       "      <td>CBL</td>\n",
       "      <td>Truncating Mutations</td>\n",
       "      <td>To determine if residual cylindrical refractiv...</td>\n",
       "    </tr>\n",
       "    <tr>\n",
       "      <th>17</th>\n",
       "      <td>17</td>\n",
       "      <td>CBL</td>\n",
       "      <td>Q367P</td>\n",
       "      <td>Acquired uniparental disomy (aUPD) is a common...</td>\n",
       "    </tr>\n",
       "    <tr>\n",
       "      <th>18</th>\n",
       "      <td>18</td>\n",
       "      <td>CBL</td>\n",
       "      <td>M374V</td>\n",
       "      <td>Oncogenic mutations in the monomeric Casitas B...</td>\n",
       "    </tr>\n",
       "    <tr>\n",
       "      <th>19</th>\n",
       "      <td>19</td>\n",
       "      <td>CBL</td>\n",
       "      <td>Y371S</td>\n",
       "      <td>Acquired uniparental disomy (aUPD) is a common...</td>\n",
       "    </tr>\n",
       "  </tbody>\n",
       "</table>\n",
       "</div>"
      ],
      "text/plain": [
       "    ID    Gene             Variation  \\\n",
       "0    0  FAM58A  Truncating Mutations   \n",
       "1    1     CBL                 W802*   \n",
       "2    2     CBL                 Q249E   \n",
       "3    3     CBL                 N454D   \n",
       "4    4     CBL                 L399V   \n",
       "5    5     CBL                 V391I   \n",
       "6    6     CBL                 V430M   \n",
       "7    7     CBL              Deletion   \n",
       "8    8     CBL                 Y371H   \n",
       "9    9     CBL                 C384R   \n",
       "10  10     CBL                 P395A   \n",
       "11  11     CBL                 K382E   \n",
       "12  12     CBL                 R420Q   \n",
       "13  13     CBL                 C381A   \n",
       "14  14     CBL                 P428L   \n",
       "15  15     CBL                 D390Y   \n",
       "16  16     CBL  Truncating Mutations   \n",
       "17  17     CBL                 Q367P   \n",
       "18  18     CBL                 M374V   \n",
       "19  19     CBL                 Y371S   \n",
       "\n",
       "                                                 Text  \n",
       "0   Cyclin-dependent kinases (CDKs) regulate a var...  \n",
       "1    Abstract Background  Non-small cell lung canc...  \n",
       "2    Abstract Background  Non-small cell lung canc...  \n",
       "3   Recent evidence has demonstrated that acquired...  \n",
       "4   Oncogenic mutations in the monomeric Casitas B...  \n",
       "5   Oncogenic mutations in the monomeric Casitas B...  \n",
       "6   Oncogenic mutations in the monomeric Casitas B...  \n",
       "7   CBL is a negative regulator of activated recep...  \n",
       "8    Abstract Juvenile myelomonocytic leukemia (JM...  \n",
       "9    Abstract Juvenile myelomonocytic leukemia (JM...  \n",
       "10  Oncogenic mutations in the monomeric Casitas B...  \n",
       "11  Noonan syndrome is an autosomal dominant conge...  \n",
       "12  Noonan syndrome is an autosomal dominant conge...  \n",
       "13  Noonan syndrome is an autosomal dominant conge...  \n",
       "14  Oncogenic mutations in the monomeric Casitas B...  \n",
       "15  Noonan syndrome is an autosomal dominant conge...  \n",
       "16  To determine if residual cylindrical refractiv...  \n",
       "17  Acquired uniparental disomy (aUPD) is a common...  \n",
       "18  Oncogenic mutations in the monomeric Casitas B...  \n",
       "19  Acquired uniparental disomy (aUPD) is a common...  "
      ]
     },
     "execution_count": 3,
     "metadata": {},
     "output_type": "execute_result"
    }
   ],
   "source": [
    "all_data[:20]"
   ]
  },
  {
   "cell_type": "code",
   "execution_count": 4,
   "metadata": {},
   "outputs": [
    {
     "name": "stderr",
     "output_type": "stream",
     "text": [
      "E:\\Anaconda\\anaconda\\lib\\site-packages\\gensim\\utils.py:862: UserWarning: detected Windows; aliasing chunkize to chunkize_serial\n",
      "  warnings.warn(\"detected Windows; aliasing chunkize to chunkize_serial\")\n"
     ]
    },
    {
     "data": {
      "text/plain": [
       "0     cyclindependent kinases cdks regulate variety ...\n",
       "1     abstract background nonsmall cell lung cancer ...\n",
       "2     abstract background nonsmall cell lung cancer ...\n",
       "3     recent evidence demonstrated acquired uniparen...\n",
       "4     oncogenic mutations monomeric casitas blineage...\n",
       "5     oncogenic mutations monomeric casitas blineage...\n",
       "6     oncogenic mutations monomeric casitas blineage...\n",
       "7     cbl negative regulator activated receptor tyro...\n",
       "8     abstract juvenile myelomonocytic leukemia jmml...\n",
       "9     abstract juvenile myelomonocytic leukemia jmml...\n",
       "10    oncogenic mutations monomeric casitas blineage...\n",
       "11    noonan syndrome autosomal dominant congenital ...\n",
       "12    noonan syndrome autosomal dominant congenital ...\n",
       "13    noonan syndrome autosomal dominant congenital ...\n",
       "14    oncogenic mutations monomeric casitas blineage...\n",
       "15    noonan syndrome autosomal dominant congenital ...\n",
       "16    determine residual cylindrical refractive erro...\n",
       "17    acquired uniparental disomy aupd common featur...\n",
       "18    oncogenic mutations monomeric casitas blineage...\n",
       "19    acquired uniparental disomy aupd common featur...\n",
       "Name: Text, dtype: object"
      ]
     },
     "execution_count": 4,
     "metadata": {},
     "output_type": "execute_result"
    }
   ],
   "source": [
    "from nltk.corpus import stopwords\n",
    "from gensim.models.doc2vec import LabeledSentence\n",
    "from gensim import utils\n",
    "\n",
    "def constructLabeledSentences(data):\n",
    "    sentences=[]\n",
    "    for index, row in data.iteritems():\n",
    "        sentences.append(LabeledSentence(utils.to_unicode(row).split(), ['Text' + '_%s' % str(index)]))\n",
    "    return sentences\n",
    "\n",
    "def textClean(text):\n",
    "    text = re.sub(r\"[^A-Za-z0-9^,!.\\/'+-=]\", \" \", text)\n",
    "    text = text.lower().split()\n",
    "    stops = set(stopwords.words(\"english\"))\n",
    "    text = [w for w in text if not w in stops]    \n",
    "    text = \" \".join(text)\n",
    "    return(text)\n",
    "    \n",
    "def cleanup(text):\n",
    "    text = textClean(text)\n",
    "    text= text.translate(str.maketrans(\"\",\"\", string.punctuation))\n",
    "    return text\n",
    "\n",
    "allText = all_data['Text'].apply(cleanup)\n",
    "sentences = constructLabeledSentences(allText)\n",
    "allText[:20]"
   ]
  },
  {
   "cell_type": "code",
   "execution_count": 5,
   "metadata": {},
   "outputs": [
    {
     "data": {
      "text/plain": [
       "LabeledSentence(words=['cyclindependent', 'kinases', 'cdks', 'regulate', 'variety', 'fundamental', 'cellular', 'processes', 'cdk10', 'stands', 'one', 'last', 'orphan', 'cdks', 'activating', 'cyclin', 'identified', 'kinase', 'activity', 'revealed', 'previous', 'work', 'shown', 'cdk10', 'silencing', 'increases', 'ets2', 'vets', 'erythroblastosis', 'virus', 'e26', 'oncogene', 'homolog', '2', 'driven', 'activation', 'mapk', 'pathway', 'confers', 'tamoxifen', 'resistance', 'breast', 'cancer', 'cells', 'precise', 'mechanisms', 'cdk10', 'modulates', 'ets2', 'activity', 'generally', 'functions', 'cdk10', 'remain', 'elusive', 'demonstrate', 'cdk10', 'cyclindependent', 'kinase', 'identifying', 'cyclin', 'activating', 'cyclin', 'cyclin', 'm', 'orphan', 'cyclin', 'product', 'fam58a', 'whose', 'mutations', 'cause', 'star', 'syndrome', 'human', 'developmental', 'anomaly', 'whose', 'features', 'include', 'toe', 'syndactyly', 'telecanthus', 'anogenital', 'renal', 'malformations', 'show', 'star', 'syndromeassociated', 'cyclin', 'mutants', 'unable', 'interact', 'cdk10', 'cyclin', 'silencing', 'phenocopies', 'cdk10', 'silencing', 'increasing', 'craf', 'conferring', 'tamoxifen', 'resistance', 'breast', 'cancer', 'cells', 'cdk10cyclin', 'phosphorylates', 'ets2', 'vitro', 'cells', 'positively', 'controls', 'ets2', 'degradation', 'proteasome', 'ets2', 'protein', 'levels', 'increased', 'cells', 'derived', 'star', 'patient', 'increase', 'attributable', 'decreased', 'cyclin', 'levels', 'altogether', 'results', 'reveal', 'additional', 'regulatory', 'mechanism', 'ets2', 'plays', 'key', 'roles', 'cancer', 'development', 'also', 'shed', 'light', 'molecular', 'mechanisms', 'underlying', 'star', 'syndromecyclindependent', 'kinases', 'cdks', 'play', 'pivotal', 'role', 'control', 'number', 'fundamental', 'cellular', 'processes', '1', 'human', 'genome', 'contains', '21', 'genes', 'encoding', 'proteins', 'considered', 'members', 'cdk', 'family', 'owing', 'sequence', 'similarity', 'bona', 'fide', 'cdks', 'known', 'activated', 'cyclins', '2', 'although', 'discovered', 'almost', '20', 'ago', '3', '4', 'cdk10', 'remains', 'one', 'two', 'cdks', 'without', 'identified', 'cyclin', 'partner', 'knowledge', 'gap', 'largely', 'impeded', 'exploration', 'biological', 'functions', 'cdk10', 'act', 'positive', 'cell', 'cycle', 'regulator', 'cells', '5', '6', 'tumor', 'suppressor', 'others', '7', '8', 'cdk10', 'interacts', 'ets2', 'vets', 'erythroblastosis', 'virus', 'e26', 'oncogene', 'homolog', '2', 'transcription', 'factor', 'inhibits', 'transcriptional', 'activity', 'unknown', 'mechanism', '9', 'cdk10', 'knockdown', 'derepresses', 'ets2', 'increases', 'expression', 'craf', 'protein', 'kinase', 'activates', 'mapk', 'pathway', 'induces', 'resistance', 'mcf7', 'cells', 'tamoxifen', '6', 'here', 'deorphanize', 'cdk10', 'identifying', 'cyclin', 'm', 'product', 'fam58a', 'binding', 'partner', 'mutations', 'gene', 'predict', 'absence', 'truncation', 'cyclin', 'associated', 'star', 'syndrome', 'whose', 'features', 'include', 'toe', 'syndactyly', 'telecanthus', 'anogenital', 'renal', 'malformations', 'heterozygous', 'females', '10', 'however', 'functions', 'cyclin', 'pathogenesis', 'star', 'syndrome', 'remain', 'unknown', 'show', 'recombinant', 'cdk10cyclin', 'heterodimer', 'active', 'protein', 'kinase', 'phosphorylates', 'ets2', 'vitro', 'cyclin', 'silencing', 'phenocopies', 'cdk10', 'silencing', 'increasing', 'craf', 'phosphoerk', 'expression', 'levels', 'inducing', 'tamoxifen', 'resistance', 'estrogen', 'receptor', 'er', 'breast', 'cancer', 'cells', 'show', 'cdk10cyclin', 'positively', 'controls', 'ets2', 'degradation', 'proteasome', 'phosphorylation', 'two', 'neighboring', 'serines', 'finally', 'detect', 'increased', 'ets2', 'expression', 'level', 'cells', 'derived', 'star', 'patient', 'demonstrate', 'attributable', 'decreased', 'cyclin', 'expression', 'level', 'observed', 'cellsprevious', 'sectionnext', 'sectionresultsa', 'yeast', 'twohybrid', 'y2h', 'screen', 'unveiled', 'interaction', 'signal', 'cdk10', 'mouse', 'protein', 'whose', 'cterminal', 'half', 'presents', 'strong', 'sequence', 'homology', 'human', 'fam58a', 'gene', 'product', 'whose', 'proposed', 'name', 'cyclin', '11', 'thus', 'performed', 'y2h', 'mating', 'assays', 'determine', 'whether', 'human', 'cdk10', 'interacts', 'human', 'cyclin', 'fig', '1', 'longest', 'cdk10', 'isoform', 'p1', 'expressed', 'bait', 'protein', 'produced', 'strong', 'interaction', 'phenotype', 'fulllength', 'cyclin', 'expressed', 'prey', 'protein', 'detectable', 'phenotype', 'cyclin', 'd1', 'p21', 'cip1', 'cdi1', 'kap', 'known', 'binding', 'partners', 'cdks', 'fig', '1b', 'cdk1', 'cdk3', 'also', 'produced', 'y2h', 'signals', 'cyclin', 'm', 'albeit', 'notably', 'weaker', 'observed', 'cdk10', 'fig', '1b', 'interaction', 'phenotype', 'also', 'observed', 'fulllength', 'cyclin', 'cdk10', 'proteins', 'expressed', 'bait', 'prey', 'respectively', 'fig', 's1a', 'tested', 'different', 'isoforms', 'cdk10', 'cyclin', 'originating', 'alternative', 'gene', 'splicing', 'two', 'truncated', 'cyclin', 'proteins', 'corresponding', 'hypothetical', 'products', 'two', 'mutated', 'fam58a', 'genes', 'found', 'star', 'syndrome', 'patients', '10', 'none', 'shorter', 'isoforms', 'produced', 'interaction', 'phenotypes', 'fig', '1', 'c', 'fig', 's1a', 'fig', '1in', 'new', 'window', 'download', 'pptfig', '1cdk10', 'cyclin', 'form', 'interaction', 'complex', 'schematic', 'representation', 'different', 'protein', 'isoforms', 'analyzed', 'y2h', 'assays', 'amino', 'acid', 'numbers', 'indicated', 'black', 'boxes', 'indicate', 'internal', 'deletions', 'red', 'box', 'indicates', 'differing', 'amino', 'acid', 'sequence', 'compared', 'cdk10', 'p1', 'b', 'y2h', 'assay', 'set', 'cdk', 'proteins', 'expressed', 'baits', 'fusion', 'lexa', 'dna', 'binding', 'domain', 'cdk', 'interacting', 'proteins', 'expressed', 'preys', 'fusion', 'b42', 'transcriptional', 'activator', 'peg202', 'pjg45', 'empty', 'bait', 'prey', 'plasmids', 'expressing', 'lexa', 'b42', 'respectively', 'lacz', 'used', 'reporter', 'gene', 'blue', 'yeast', 'indicative', 'y2h', 'interaction', 'phenotype', 'c', 'y2h', 'assay', 'different', 'cdk10', 'cyclin', 'isoforms', 'aminoterminal', 'region', 'ets2', 'known', 'interact', 'cdk10', '9', 'also', 'assayed', 'western', 'blot', 'analysis', 'myccdk10', 'wt', 'kd', 'cycmv56his', 'expression', 'levels', 'transfected', 'hek293', 'cells', 'e', 'western', 'blot', 'analysis', 'myccdk10', 'wt', 'kd', 'immunoprecipitates', 'obtained', 'using', 'antimyc', 'antibody', 'nputs', 'correspond', '10', 'g', 'total', 'lysates', 'obtained', 'hek293', 'cells', 'coexpressing', 'myccdk10', 'wt', 'kd', 'cycmv56his', 'f', 'western', 'blot', 'analysis', 'immunoprecipitates', 'obtained', 'using', 'anticdk10', 'antibody', 'control', 'goat', 'antibody', 'human', 'breast', 'cancer', 'mcf7', 'cells', 'nput', 'corresponds', '30', 'g', 'mcf7', 'total', 'cell', 'lysates', 'lower', 'band', 'doublet', 'observed', 'upper', 'panel', 'comigrates', 'exogenously', 'expressed', 'untagged', 'cdk10', 'thus', 'corresponds', 'endogenous', 'cdk10', 'upper', 'band', 'doublet', 'corresponds', 'nonspecific', 'signal', 'demonstrated', 'insensitivity', 'either', 'overexpression', 'cdk10', 'seen', 'left', 'lane', 'silencing', 'cdk10', 'fig', 's2b', 'another', 'experiment', 'longer', 'gel', 'migration', 'shown', 'fig', 's1dnext', 'examined', 'ability', 'cdk10', 'cyclin', 'interact', 'expressed', 'human', 'cells', 'fig', '1', 'e', 'tested', 'wildtype', 'cdk10', 'wt', 'kinase', 'dead', 'kd', 'mutant', 'bearing', 'd181a', 'amino', 'acid', 'substitution', 'abolishes', 'atp', 'binding', '12', 'expressed', 'cyclin', 'mv56his', 'andor', 'myccdk10', 'wt', 'kd', 'human', 'embryonic', 'kidney', 'cell', 'line', 'hek293', 'expression', 'level', 'cyclin', 'mv56his', 'significantly', 'increased', 'upon', 'coexpression', 'myccdk10', 'wt', 'kd', 'and', 'lesser', 'extent', 'myccdk10', 'wt', 'kd', 'increased', 'upon', 'coexpression', 'cyclin', 'mv56his', 'fig', '1d', 'immunoprecipitated', 'myccdk10', 'proteins', 'detected', 'presence', 'cyclin', 'cdk10', 'wt', 'kd', 'immunoprecipitates', 'proteins', 'coexpressed', 'pairwise', 'fig', '1e', 'confirmed', 'observations', 'detecting', 'presence', 'myccdk10', 'cyclin', 'mv56his', 'immunoprecipitates', 'fig', 's1b', 'experiments', 'confirmed', 'lack', 'robust', 'interaction', 'cdk10p2', 'isoform', 'cyclin', 'fig', 's1c', 'detect', 'interaction', 'endogenous', 'proteins', 'performed', 'immunoprecipitations', 'nontransfected', 'mcf7', 'cells', 'derived', 'human', 'breast', 'cancer', 'cdk10', 'cyclin', 'antibodies', 'detected', 'cognate', 'endogenous', 'proteins', 'western', 'blotting', 'readily', 'detected', 'cyclin', 'immunoprecipitates', 'obtained', 'cdk10', 'antibody', 'control', 'antibody', 'fig', '1f', 'results', 'confirm', 'physical', 'interaction', 'cdk10', 'cyclin', 'human', 'cellsto', 'unveil', 'hypothesized', 'cdk10cyclin', 'protein', 'kinase', 'activity', 'produced', 'gstcdk10', 'strepiicyclin', 'fusion', 'proteins', 'insect', 'cells', 'either', 'individually', 'combination', 'observed', 'gstcdk10', 'strepiicyclin', 'copurified', 'thus', 'confirming', 'interaction', 'yet', 'another', 'cellular', 'model', 'fig', '2a', 'performed', 'vitro', 'kinase', 'assays', 'purified', 'proteins', 'using', 'histone', 'h1', 'generic', 'substrate', 'histone', 'h1', 'phosphorylation', 'detected', 'lysates', 'cells', 'coexpressing', 'gstcdk10', 'strepiicyclin', 'm', 'phosphorylation', 'detected', 'gstcdk10', 'strepiicyclin', 'expressed', 'alone', 'strepiicyclin', 'coexpressed', 'gstcdk10', 'kd', 'fig', '2a', 'next', 'investigated', 'whether', 'ets2', 'known', 'interact', 'cdk10', '9', 'fig', '1c', 'phosphorylation', 'substrate', 'cdk10cyclin', 'm', 'detected', 'strong', 'phosphorylation', 'ets2', 'gstcdk10strepiicyclin', 'purified', 'heterodimer', 'whereas', 'phosphorylation', 'detected', 'using', 'gstcdk10', 'alone', 'gstcdk10', 'kd', 'strepiicyclin', 'heterodimer', 'fig', '2b', 'fig', '2in', 'new', 'window', 'download', 'pptfig', '2cdk10', 'cyclin', 'mdependent', 'protein', 'kinase', 'vitro', 'protein', 'kinase', 'assay', 'histone', 'h1', 'lysates', 'insect', 'cells', 'expressing', 'different', 'proteins', 'purified', 'glutathione', 'sepharose', 'matrix', 'capture', 'gstcdk10', 'wt', 'kd', 'fusion', 'proteins', 'alone', 'complex', 'strcycm', 'fusion', 'protein', 'purified', 'protein', 'expression', 'levels', 'analyzed', 'western', 'blots', 'top', 'upper', 'middle', 'kinase', 'activity', 'determined', 'autoradiography', 'histone', 'h1', 'whose', 'added', 'amounts', 'visualized', 'coomassie', 'staining', 'lower', 'middle', 'bottom', 'b', 'a', 'using', 'purified', 'recombinant', '6hisets2', 'substratecdk10', 'silencing', 'shown', 'increase', 'ets2driven', 'craf', 'transcription', 'activate', 'mapk', 'pathway', '6', 'investigated', 'whether', 'cyclin', 'also', 'involved', 'regulatory', 'pathway', 'aim', 'highly', 'specific', 'silencing', 'used', 'sirna', 'pools', 'mix', 'four', 'different', 'sirnas', 'low', 'final', 'concentration', '10', 'nm', 'cdk10', 'cyclin', 'sirna', 'pools', 'silenced', 'expression', 'cognate', 'targets', 'fig', '3', 'c', 'fig', 's2', 'and', 'interestingly', 'cyclin', 'sirna', 'pool', 'also', 'caused', 'marked', 'decrease', 'cdk10', 'protein', 'level', 'fig', '3a', 'fig', 's2b', 'results', 'shown', 'fig', '1d', 'suggest', 'cyclin', 'binding', 'stabilizes', 'cdk10', 'cyclin', 'silencing', 'induced', 'increase', 'craf', 'protein', 'mrna', 'levels', 'fig', '3', 'b', 'c', 'phosphorylated', 'erk1', 'erk2', 'protein', 'levels', 'fig', 's3b', 'similarly', 'cdk10', 'silencing', 'expected', 'effects', '6', 'cdk10', 'cyclin', 'silencing', 'decreased', 'sensitivity', 'er', 'mcf7', 'cells', 'tamoxifen', 'similar', 'extent', 'combined', 'silencing', 'genes', 'result', 'higher', 'resistance', 'drug', 'fig', 's3c', 'altogether', 'observations', 'demonstrate', 'functional', 'interaction', 'cyclin', 'cdk10', 'negatively', 'controls', 'ets2fig', '3in', 'new', 'window', 'download', 'pptfig', '3cyclin', 'silencing', 'upregulates', 'craf', 'expression', 'western', 'blot', 'analysis', 'endogenous', 'cdk10', 'cyclin', 'expression', 'levels', 'mcf7', 'cells', 'response', 'sirnamediated', 'gene', 'silencing', 'b', 'western', 'blot', 'analysis', 'endogenous', 'craf', 'expression', 'levels', 'mcf7', 'cells', 'response', 'cdk10', 'cyclin', 'silencing', 'quantification', 'shown', 'fig', 's3a', 'c', 'quantitative', 'rtpcr', 'analysis', 'cdk10', 'cyclin', 'm', 'craf', 'mrna', 'levels', 'response', 'cdk10', 'upper', 'cyclin', 'lower', 'silencing', 'p', '001', 'p', '0001we', 'wished', 'explore', 'mechanism', 'cdk10cyclin', 'controls', 'ets2', 'ets2', 'shortlived', 'protein', 'degraded', 'proteasome', '13', 'straightforward', 'hypothesis', 'cdk10cyclin', 'positively', 'controls', 'ets2', 'degradation', 'thus', 'examined', 'impact', 'cdk10', 'cyclin', 'silencing', 'ets2', 'expression', 'levels', 'silencing', 'cdk10', 'cyclin', 'caused', 'increase', 'expression', 'levels', 'exogenously', 'expressed', 'flagets2', 'protein', 'fig', 's4a', 'well', 'endogenous', 'ets2', 'protein', 'fig', '4a', 'increase', 'attributable', 'increased', 'ets2', 'mrna', 'levels', 'marginally', 'fluctuated', 'response', 'cdk10', 'cyclin', 'silencing', 'fig', 's4b', 'examined', 'expression', 'levels', 'flagtagged', 'ets2', 'protein', 'expressed', 'alone', 'combination', 'myccdk10', 'cdk10', 'kd', 'without', 'cyclin', 'mv56his', 'flagets2', 'readily', 'detected', 'expressed', 'alone', 'or', 'lesser', 'extent', 'coexpressed', 'cdk10', 'kd', 'however', 'expression', 'level', 'dramatically', 'decreased', 'coexpressed', 'cdk10', 'alone', 'cdk10', 'cyclin', 'fig', '4b', 'observations', 'suggest', 'endogenous', 'cyclin', 'levels', 'excess', 'compared', 'cdk10', 'mcf7', 'cells', 'show', 'major', 'decrease', 'ets2', 'levels', 'observed', 'upon', 'cdk10', 'coexpression', 'involves', 'cdk10', 'kinase', 'activity', 'treatment', 'cells', 'coexpressing', 'flagets2', 'cdk10', 'cyclin', 'proteasome', 'inhibitor', 'mg132', 'largely', 'rescued', 'flagets2', 'expression', 'levels', 'fig', '4b', 'fig', '4in', 'new', 'window', 'download', 'pptfig', '4cdk10cyclin', 'controls', 'ets2', 'stability', 'human', 'cancer', 'derived', 'cells', 'western', 'blot', 'analysis', 'endogenous', 'ets2', 'expression', 'levels', 'mcf7', 'cells', 'response', 'sirnamediated', 'cdk10', 'andor', 'cyclin', 'silencing', 'quantification', 'shown', 'fig', 's4b', 'b', 'western', 'blot', 'analysis', 'exogenously', 'expressed', 'flagets2', 'protein', 'levels', 'mcf7', 'cells', 'cotransfected', 'empty', 'vectors', 'coexpressing', 'myccdk10', 'wt', 'kd', 'myccdk10cycmv56his', 'latter', 'cells', 'treated', '16', 'h', 'mg132', 'proteasome', 'inhibitor', 'proper', 'expression', 'cdk10', 'cyclin', 'tagged', 'proteins', 'verified', 'western', 'blot', 'analysis', 'c', 'western', 'blot', 'analysis', 'expression', 'levels', 'exogenously', 'expressed', 'flagets2', 'wildtype', 'mutant', 'proteins', 'mcf7', 'cells', 'absence', 'c', 'response', 'myccdk10cycmv56his', 'expression', 'quantifications', 'shown', 'fig', 's4', 'c', 'da', 'mass', 'spectrometry', 'analysis', 'recombinant', 'ets2', 'phosphorylated', 'cdk10cyclin', 'vitro', 'revealed', 'existence', 'multiple', 'phosphorylated', 'residues', 'among', 'two', 'neighboring', 'phosphoserines', 'positions', '220', '225', 'may', 'form', 'phosphodegron', '14', 'figs', 's5', '8', 'confirm', 'finding', 'compared', 'phosphorylation', 'level', 'recombinant', 'ets2wt', 'ets2sasa', 'protein', 'mutant', 'bearing', 'alanine', 'substitutions', 'two', 'serines', 'expected', 'existence', 'multiple', 'phosphorylation', 'sites', 'detected', 'small', 'reproducible', 'significant', 'decrease', 'phosphorylation', 'level', 'ets2sasa', 'compared', 'ets2wt', 'fig', 's9', 'thus', 'confirming', 'ser220ser225', 'phosphorylated', 'cdk10cyclin', 'm', 'establish', 'direct', 'link', 'ets2', 'phosphorylation', 'cdk10cyclin', 'degradation', 'examined', 'expression', 'levels', 'flagets2sasa', 'absence', 'cdk10cyclin', 'coexpression', 'differ', 'significantly', 'flagets2', 'contrary', 'flagets2dbm', 'bearing', 'deletion', 'nterminal', 'destruction', 'd', 'box', 'previously', 'shown', 'involved', 'apccdh1', 'ediated', 'degradation', 'ets2', '13', 'fig', '4c', 'however', 'contrary', 'flagets2', 'wild', 'type', 'expression', 'level', 'flagets2sasa', 'remained', 'insensitive', 'cdk10cyclin', 'coexpression', 'fig', '4d', 'altogether', 'results', 'suggest', 'cdk10cyclin', 'directly', 'controls', 'ets2', 'degradation', 'phosphorylation', 'two', 'serinesfinally', 'studied', 'lymphoblastoid', 'cell', 'line', 'derived', 'patient', 'star', 'syndrome', 'bearing', 'fam58a', 'mutation', 'c5551g', 'a', 'predicted', 'result', 'aberrant', 'splicing', '10', 'accordance', 'incomplete', 'skewing', 'x', 'chromosome', 'inactivation', 'previously', 'found', 'patient', 'detected', 'decreased', 'expression', 'level', 'cyclin', 'protein', 'star', 'cell', 'line', 'compared', 'control', 'lymphoblastoid', 'cell', 'line', 'line', 'preceding', 'observations', 'detected', 'increased', 'expression', 'level', 'ets2', 'protein', 'star', 'cell', 'line', 'compared', 'control', 'fig', '5a', 'fig', 's10a', 'examined', 'quantitative', 'rtpcr', 'mrna', 'expression', 'levels', 'corresponding', 'genes', 'star', 'cell', 'line', 'showed', 'decreased', 'expression', 'level', 'cyclin', 'mrna', 'expression', 'level', 'ets2', 'mrna', 'similar', 'control', 'cell', 'line', 'fig', '5b', 'demonstrate', 'increase', 'ets2', 'protein', 'expression', 'indeed', 'result', 'decreased', 'cyclin', 'expression', 'observed', 'star', 'patientderived', 'cell', 'line', 'expressed', 'cyclin', 'mv56his', 'cell', 'line', 'expression', 'caused', 'decrease', 'ets2', 'protein', 'levels', 'fig', '5c', 'fig', '5in', 'new', 'window', 'download', 'pptfig', '5decreased', 'cyclin', 'expression', 'star', 'patientderived', 'cells', 'results', 'increased', 'ets2', 'protein', 'level', 'western', 'blot', 'analysis', 'cyclin', 'ets2', 'protein', 'levels', 'star', 'patientderived', 'lymphoblastoid', 'cell', 'line', 'control', 'lymphoblastoid', 'cell', 'line', 'derived', 'healthy', 'individual', 'quantification', 'shown', 'fig', 's10a', 'b', 'quantitative', 'rtpcr', 'analysis', 'cyclin', 'ets2', 'mrna', 'levels', 'cells', 'p', '0001', 'c', 'western', 'blot', 'analysis', 'ets2', 'protein', 'levels', 'star', 'patientderived', 'lymphoblastoid', 'cell', 'line', 'transfected', 'empty', 'vector', 'vector', 'directing', 'expression', 'cyclin', 'mv56his', 'another', 'western', 'blot', 'revealing', 'endogenously', 'exogenously', 'expressed', 'cyclin', 'levels', 'shown', 'fig', 's10b', 'quantification', 'ets2', 'protein', 'levels', 'shown', 'fig', 's10cprevious', 'sectionnext', 'sectiondiscussionin', 'work', 'unveil', 'interaction', 'cdk10', 'last', 'orphan', 'cdk', 'discovered', 'pregenomic', 'era', '2', 'cyclin', 'm', 'cyclin', 'associated', 'human', 'genetic', 'disease', 'far', 'whose', 'functions', 'remain', 'unknown', '10', 'closest', 'paralogs', 'cdk10', 'within', 'cdk', 'family', 'cdk11', 'proteins', 'interact', 'ltype', 'cyclins', '15', 'interestingly', 'closest', 'paralog', 'cyclins', 'within', 'cyclin', 'family', 'cyclin', 'fig', 's11', 'fact', 'none', 'shorter', 'cdk10', 'isoforms', 'interact', 'robustly', 'cyclin', 'suggests', 'alternative', 'splicing', 'cdk10', 'gene', '16', '17', 'plays', 'important', 'role', 'regulating', 'cdk10', 'functionsthe', 'functional', 'relevance', 'interaction', 'cdk10', 'cyclin', 'supported', 'different', 'observations', 'proteins', 'seem', 'enhance', 'stability', 'judged', 'increased', 'expression', 'levels', 'partner', 'exogenously', 'coexpressed', 'fig', '1d', 'much', 'reduced', 'endogenous', 'cdk10', 'expression', 'level', 'observed', 'response', 'cyclin', 'silencing', 'fig', '3a', 'fig', 's2b', 'cdk10', 'subject', 'ubiquitinmediated', 'degradation', '18', 'observations', 'suggest', 'cyclin', 'protects', 'cdk10', 'degradation', 'cyclin', 'partner', 'cdk10', 'least', 'mcf7', 'cells', 'also', 'suggest', 'cyclin', 'stability', 'enhanced', 'upon', 'binding', 'cdk10', 'independently', 'kinase', 'activity', 'seen', 'cyclin', 'c', 'cdk8', '19', 'uncover', 'cyclin', 'mdependent', 'cdk10', 'protein', 'kinase', 'activity', 'vitro', 'thus', 'demonstrating', 'protein', 'named', 'cdk', 'sole', 'basis', 'amino', 'acid', 'sequence', 'indeed', 'genuine', 'cyclindependent', 'kinase', 'y2h', 'assays', 'reveal', 'truncated', 'cyclin', 'proteins', 'corresponding', 'hypothetical', 'products', 'two', 'star', 'syndromeassociated', 'fam58a', 'mutations', 'produce', 'interaction', 'phenotype', 'cdk10', 'hence', 'regardless', 'whether', 'mutated', 'mrnas', 'undergo', 'nonsensemediated', 'decay', 'suggested', 'decreased', 'cyclin', 'mrna', 'levels', 'star', 'cells', 'shown', 'fig', '5b', 'give', 'rise', 'truncated', 'cyclin', 'proteins', 'females', 'affected', 'star', 'syndrome', 'must', 'exhibit', 'compromised', 'cdk10cyclin', 'kinase', 'activity', 'least', 'tissues', 'specific', 'developmental', 'stageswe', 'show', 'ets2', 'known', 'interactor', 'cdk10', 'phosphorylation', 'substrate', 'cdk10cyclin', 'vitro', 'cdk10cyclin', 'kinase', 'activity', 'positively', 'controls', 'ets2', 'degradation', 'proteasome', 'control', 'seems', 'exerted', 'fine', 'mechanism', 'judged', 'sensitivity', 'ets2', 'levels', 'partially', 'decreased', 'cdk10', 'cyclin', 'levels', 'achieved', 'mcf7', 'cells', 'observed', 'star', 'cells', 'respectively', 'findings', 'offer', 'straightforward', 'explanation', 'already', 'reported', 'upregulation', 'ets2driven', 'transcription', 'craf', 'response', 'cdk10', 'silencing', '6', 'bring', 'evidence', 'cdk10cyclin', 'directly', 'controls', 'ets2', 'degradation', 'phosphorylation', 'two', 'neighboring', 'serines', 'may', 'form', 'noncanonical', 'trcp', 'phosphodegron', 'dsmcpas', '14', 'none', 'two', 'serines', 'precede', 'proline', 'conform', 'usual', 'cdk', 'phosphorylation', 'sites', 'however', 'multiple', 'socalled', 'transcriptional', 'cdks', 'cdk7', '8', '9', '11', 'cdk10', 'may', 'belong', 'fig', 's11', 'shown', 'phosphorylate', 'variety', 'motifs', 'non', 'rolinedirected', 'fashion', 'especially', 'context', 'molecular', 'docking', 'substrate', '20', 'here', 'hypothesized', 'highaffinity', 'interaction', 'cdk10', 'pointed', 'domain', 'ets2', '6', '9', 'fig', '1c', 'would', 'allow', 'dockingmediated', 'phosphorylation', 'atypical', 'sites', 'control', 'ets2', 'degradation', 'involves', 'number', 'players', 'including', 'apccdh1', '13', 'cullinring', 'ligase', 'crl4', '21', 'formal', 'identification', 'ubiquitin', 'ligase', 'involved', 'cdk10cyclin', 'pathway', 'elucidation', 'concerted', 'action', 'ubiquitin', 'ligases', 'regulate', 'ets2', 'degradation', 'require', 'studiesour', 'results', 'present', 'number', 'significant', 'biological', 'medical', 'implications', 'first', 'shed', 'light', 'regulation', 'ets2', 'plays', 'important', 'role', 'development', '22', 'frequently', 'deregulated', 'many', 'cancers', '23', 'second', 'results', 'contribute', 'understanding', 'molecular', 'mechanisms', 'causing', 'tamoxifen', 'resistance', 'associated', 'reduced', 'cdk10', 'expression', 'levels', 'suggest', 'that', 'like', 'cdk10', '6', 'cyclin', 'could', 'also', 'predictive', 'clinical', 'marker', 'hormone', 'therapy', 'response', 'er', 'positive', 'breast', 'cancer', 'patients', 'third', 'findings', 'offer', 'interesting', 'hypothesis', 'molecular', 'mechanisms', 'underlying', 'star', 'syndrome', 'ets2', 'transgenic', 'mice', 'showing', 'less', 'twofold', 'overexpression', 'ets2', 'present', 'severe', 'cranial', 'abnormalities', '24', 'observed', 'star', 'patients', 'could', 'thus', 'caused', 'least', 'part', 'increased', 'ets2', 'protein', 'levels', 'another', 'expected', 'consequence', 'enhanced', 'ets2', 'expression', 'levels', 'would', 'decreased', 'risk', 'develop', 'certain', 'types', 'cancers', 'increased', 'risk', 'develop', 'others', 'studies', 'various', 'mouse', 'models', 'including', 'models', 'syndrome', 'three', 'copies', 'ets2', 'exist', 'revealed', 'ets2', 'dosage', 'repress', 'promote', 'tumor', 'growth', 'and', 'hence', 'ets2', 'exerts', 'noncell', 'autonomous', 'functions', 'cancer', '25', 'intringuingly', 'one', 'star', 'patients', 'identified', 'far', 'diagnosed', 'nephroblastoma', '26', 'finally', 'findings', 'facilitate', 'general', 'exploration', 'biological', 'functions', 'cdk10', 'and', 'particular', 'role', 'control', 'cell', 'division', 'previous', 'studies', 'suggested', 'either', 'positive', 'role', 'cell', 'cycle', 'control', '5', '6', 'tumorsuppressive', 'activity', 'cancers', '7', '8', 'severe', 'growth', 'retardation', 'exhibited', 'star', 'patients', 'strongly', 'suggests', 'cdk10cyclin', 'plays', 'important', 'role', 'control', 'cell', 'proliferationprevious', 'sectionnext', 'sectionmaterials', 'methodscloning', 'cdk10', 'cyclin', 'cdnas', 'plasmid', 'constructions', 'tamoxifen', 'response', 'analysis', 'quantitative', 'rtpcr', 'mass', 'spectrometry', 'experiments', 'antibody', 'production', 'detailed', 'si', 'materials', 'methodsyeast', 'twohybrid', 'interaction', 'assays', 'performed', 'yeast', 'interaction', 'mating', 'assays', 'previously', 'described', '27', 'mammalian', 'cell', 'cultures', 'transfections', 'grew', 'human', 'hek293', 'mcf7', 'cells', 'dmem', 'supplemented', '10', 'volvol', 'fbs', 'invitrogen', 'grew', 'lymphoblastoid', 'cells', 'rpmi', '1640', 'glutamax', 'supplemented', '15', 'volvol', 'fbs', 'transfected', 'hek293', 'mcf7', 'cells', 'using', 'lipofectamine', '2000', 'invitrogen', 'plasmids', 'lipofectamine', 'rnaimax', 'invitrogen', 'sirnas', 'jetprime', 'polyplus', 'plasmidssirnas', 'combinations', 'according', 'manufacturers', 'instructions', 'transfected', 'lymphoblastoid', 'cells', 'electroporation', 'neon', 'invitrogen', 'ets2', 'stability', 'studies', 'treated', 'mcf7', 'cells', '32', 'h', 'transfection', '10', 'mg132', 'fisher', 'scientific', '16', 'hcoimmunoprecipitation', 'western', 'blot', 'experiments', 'collected', 'cells', 'scraping', 'pbs', 'centrifugation', 'lymphoblastoid', 'cells', 'lysed', 'sonication', 'lysis', 'buffer', 'containing', '60', 'mm', 'glycerophosphate', '15', 'mm', 'pnitrophenylphosphate', '25', 'mm', '3', 'nmorpholino', 'propanesulfonic', 'acid', 'mops', 'ph', '72', '15', 'mm', 'egta', '15', 'mm', 'mgcl2', '1', 'mm', 'na', 'vanadate', '1', 'mm', 'naf', '1mm', 'phenylphosphate', '01', 'nonidet', 'p40', 'protease', 'inhibitor', 'mixture', 'roche', 'spun', 'lysates', '15', 'min', '20000', 'g', '4', 'c', 'collected', 'supernatants', 'determined', 'protein', 'content', 'using', 'bradford', 'assay', 'performed', 'immunoprecipitation', 'experiments', '500', 'g', 'total', 'proteins', 'lysis', 'buffer', 'precleared', 'lysates', '20', 'l', 'protein', 'gagarose', 'beads', 'incubated', '1', 'h', '4', 'c', 'rotating', 'wheel', 'added', '5', 'g', 'antibody', 'supernatants', 'incubated', '1', 'h', '4', 'c', 'rotating', 'wheel', 'added', '20', 'l', 'protein', 'gagarose', 'beads', 'incubated', '1', 'h', '4', 'c', 'rotating', 'wheel', 'collected', 'beads', 'centrifugation', '30', '18000', 'g', '4', 'c', 'washed', 'three', 'times', 'bead', 'buffer', 'containing', '50', 'mm', 'tris', 'ph', '74', '5', 'mm', 'naf', '250', 'mm', 'nacl', '5', 'mm', 'edta', '5', 'mm', 'egta', '01', 'nonidet', 'p40', 'protease', 'inhibitor', 'coktail', 'roche', 'directly', 'added', 'sample', 'buffer', 'washed', 'pellets', 'heatdenatured', 'proteins', 'ran', 'samples', '10', 'bistris', 'sdspage', 'transferred', 'proteins', 'onto', 'hybond', 'nitrocellulose', 'membranes', 'processed', 'blots', 'according', 'standard', 'procedures', 'western', 'blot', 'experiments', 'used', 'following', 'primary', 'antibodies', 'antimyc', 'abcam', 'ab9106', '12000', 'antiv5', 'invitrogen', 'r960', '15000', 'antitubulin', 'santa', 'cruz', 'biotechnology', 'b7', '1500', 'anticdk10', 'covalab', 'pab0847p', '1500', 'santa', 'cruz', 'biotechnology', 'c19', '1500', 'anticycm', 'homemade', 'dilution', '1500', 'covalab', 'pab0882p', 'dilution', '1500', 'antiraf1', 'santa', 'cruz', 'biotechnology', 'c20', '11000', 'antiets2', 'santa', 'cruz', 'biotechnology', 'c20', '11000', 'antiflag', 'sigma', 'f7425', '11000', 'antiactin', 'sigma', 'a5060', '15000', 'used', 'hrpcoupled', 'antigoat', 'santa', 'cruz', 'biotechnology', 'sc2033', 'dilution', '12000', 'antimouse', 'biorad', '170', '6516', 'dilution', '13000', 'antirabbit', 'biorad', '172', '1019', '15000', 'secondary', 'antibodies', 'revealed', 'blots', 'enhanced', 'chemiluminescence', 'supersignal', 'west', 'femto', 'thermo', 'scientific', 'production', 'purification', 'recombinant', 'proteinsgstcdk10', 'kd', 'strepiicycm', 'generated', 'recombinant', 'bacmids', 'dh10bac', 'escherichia', 'coli', 'baculoviruses', 'sf9', 'cells', 'using', 'bactobac', 'system', 'described', 'provider', 'invitrogen', 'infected', 'sf9', 'cells', 'gstcdk10', 'gstcdk10kd', 'producing', 'viruses', 'coinfected', 'cells', 'strepiicycm', 'roducing', 'viruses', 'collected', 'cells', '72', 'h', 'infection', 'purify', 'gstfusion', 'proteins', 'spun', '250', 'ml', 'cells', 'resuspended', 'pellet', '40', 'ml', 'lysis', 'buffer', 'pbs', '250', 'mm', 'nacl', '05', 'nonidet', 'p40', '50', 'mm', 'naf', '10', 'mm', 'glycerophosphate', '03', 'mm', 'navanadate', 'containing', 'protease', 'inhibitor', 'mixture', 'roche', 'lysed', 'cells', 'sonication', 'spun', 'lysate', '30', 'min', '15000', 'g', 'collected', 'soluble', 'fraction', 'added', '1ml', 'glutathionesepharose', 'matrix', 'incubated', '1', 'h', '4', 'c', 'washed', 'four', 'times', 'lysis', 'buffer', 'one', 'time', 'kinase', 'buffer', 'see', 'finally', 'resuspended', 'beads', '100', 'l', 'kinase', 'buffer', 'containing', '10', 'volvol', 'glycerol', 'storage6hisets2', 'transformed', 'origami2', 'de3', 'novagen', '6hisets2', 'expression', 'vector', 'induced', 'expression', '02', 'mm', 'isopropyl', 'd1thiogalactopyranoside', '3', 'h', '22', 'c', 'purify', '6hisets2', 'spun', '50', 'ml', 'cells', 'resuspended', 'pellet', '2', 'ml', 'lysis', 'buffer', 'pbs', '300', 'mm', 'nacl', '10', 'mm', 'imidazole', '1', 'mm', 'dtt', '01', 'nonidet', 'p40', 'containing', 'protease', 'inhibitor', 'mixture', 'without', 'edta', 'roche', 'lysed', 'cells', '16', 'bar', 'using', 'cell', 'disruptor', 'spun', 'lysate', '10', 'min', '20000', 'g', 'collected', 'soluble', 'fraction', 'added', '200', 'l', 'cobalt', 'beads', 'thermo', 'scientific', '1', 'h', 'incubation', '4', 'c', 'rotating', 'wheel', 'washed', 'four', 'times', 'lysis', 'buffer', 'elute', 'incubated', 'beads', '30', 'min', 'elution', 'buffer', 'pbs', '250', 'mm', 'imidazole', 'ph', '76', 'containing', 'protease', 'inhibitor', 'mixture', 'spun', '30', '10000', 'g', 'collected', 'eluted', 'proteinprotein', 'kinase', 'assays', 'mixed', 'glutathionesepharose', 'beads', 'harboring', 'gstcdk10', 'wt', 'kd', 'either', 'monomeric', 'complexed', 'strepiicycm', '227', 'bsa', '15', 'mm', 'dtt', '100', 'atp', '5', 'ci', 'atp', '32p', '775', 'histone', 'h1', '1', '6hisets2', 'added', 'kinase', 'buffer', '25', 'mm', 'tris', 'hcl', '10', 'mm', 'mgcl2', '1', 'mm', 'egta', '1', 'mm', 'dtt', '37', 'heparin', 'ph', '75', 'total', 'volume', '30', 'l', 'incubated', 'reactions', '30', 'min', '30', 'c', 'added', 'laemli', 'sample', 'buffer', 'heatdenatured', 'samples', 'ran', '10', 'bistris', 'sdspage', 'cut', 'gel', 'slices', 'detect', 'gstcdk10', 'strepiicycm', 'western', 'blotting', 'stained', 'gel', 'slices', 'containing', 'substrate', 'coomassie', 'r250', 'biorad', 'dried', 'them', 'detected', 'incorporated', 'radioactivity', 'autoradiography', 'identified', 'four', 'unrelated', 'girls', 'anogenital', 'renal', 'malformations', 'dysmorphic', 'facial', 'features', 'normal', 'intellect', 'syndactyly', 'toes', 'similar', 'combination', 'features', 'reported', 'previously', 'mother', 'aughter', 'pair1', 'table', '1', 'supplementary', 'note', 'online', 'authors', 'noted', 'clinical', 'overlap', 'townesbrocks', 'syndrome', 'suggested', 'phenotype', 'represented', 'separate', 'autosomal', 'dominant', 'entity', 'mim601446', 'define', 'cardinal', 'features', 'syndrome', 'characteristic', 'facial', 'appearance', 'apparent', 'telecanthus', 'broad', 'tripartite', 'nasal', 'tip', 'variable', 'syndactyly', 'toes', '2', '5', 'hypoplastic', 'labia', 'anal', 'atresia', 'urogenital', 'malformations', 'fig', '1a', 'also', 'observed', 'variety', 'features', 'table', '1', 'figure', '1', 'clinical', 'molecular', 'characterization', 'star', 'syndrome', 'figure', '1', 'clinical', 'molecular', 'characterization', 'star', 'syndrome', 'facial', 'appearances', 'cases', '1', '3', 'apparent', 'telecanthus', 'dysplastic', 'ears', 'thin', 'upper', 'lips', 'ace', 'toe', 'syndactyly', '2', '5', '3', '5', '4', '5', 'bdf', 'cases', 'illustrate', 'recognizable', 'features', 'star', 'syndrome', 'specific', 'parental', 'consent', 'obtained', 'publication', 'photographs', 'anal', 'atresia', 'hypoplastic', 'labia', 'shown', 'gh', 'xray', 'films', 'feet', 'case', '2', 'showing', 'four', 'rays', 'left', 'deltashaped', '4th', '5th', 'metatarsals', 'right', 'h', 'compare', 'clinical', 'picture', 'arraycgh', 'data', 'log2', 'ratio', 'represents', 'copy', 'number', 'loss', 'six', 'probes', 'spanning', '379', '507', 'kb', 'one', 'probe', 'positioned', 'within', 'fam58a', 'deletion', 'remove', 'parts', 'functional', 'genes', 'j', 'schematic', 'structure', 'fam58a', 'position', 'mutations', 'fam58a', 'five', 'coding', 'exons', 'boxes', 'cyclin', 'domain', 'green', 'encoded', 'exons', '2', '4', 'horizontal', 'arrow', 'indicates', 'deletion', 'extending', '5', 'case', '1', 'includes', 'exons', '1', '2', 'whereas', 'horizontal', 'line', 'exon', '5', 'indicates', 'deletion', 'found', 'case', '3', 'removes', 'exon', '5', '3', 'sequence', 'pink', 'horizontal', 'bars', 'boxes', 'indicate', 'amplicons', 'used', 'qpcr', 'sequencing', 'one', 'alternative', 'exon', '5', 'amplicon', 'indicated', 'space', 'constraints', 'mutation', '201dupt', 'case', '4', 'results', 'immediate', 'stop', 'codon', '5551g', '5551g', 'splice', 'mutations', 'cases', '2', '5', '6', 'predicted', 'deleterious', 'alter', 'conserved', 'splice', 'donor', 'acceptor', 'site', 'intron', '4', 'respectively', 'full', 'size', 'image', '97', 'kb', 'table', '1', 'clinical', 'features', 'star', 'syndrome', 'cases', 'table', '1', 'clinical', 'features', 'star', 'syndrome', 'cases', 'full', 'table', 'basis', 'phenotypic', 'overlap', 'townesbrocks', 'okihiro', 'feingold', 'syndromes', 'analyzed', 'sall1', 'ref', '2', 'sall4', 'ref', '3', 'mycn4', 'found', 'mutations', 'genes', 'supplementary', 'methods', 'online', 'next', 'carried', 'genomewide', 'highresolution', 'oligonucleotide', 'array', 'comparative', 'genomic', 'hybridization', 'cgh', '5', 'analysis', 'supplementary', 'methods', 'genomic', 'dna', 'severely', 'affected', 'individual', 'case', '1', 'lower', 'lid', 'coloboma', 'epilepsy', 'syringomyelia', 'identified', 'heterozygous', 'deletion', '379', '507', 'kb', 'xq28', 'removed', 'exons', '1', '2', 'fam58a', 'fig', '1ij', 'using', 'realtime', 'pcr', 'confirmed', 'deletion', 'child', 'excluded', 'unaffected', 'parents', 'supplementary', 'fig', '1a', 'online', 'supplementary', 'methods', 'supplementary', 'table', '1', 'online', 'cgh', 'customized', 'oligonucleotide', 'array', 'enriched', 'probes', 'xq28', 'followed', 'breakpoint', 'cloning', 'defined', 'exact', 'deletion', 'size', '40068', 'bp', 'g152514164', '152554231del', 'chromosome', 'x', 'ncbi', 'build', '362', 'fig', '1j', 'supplementary', 'figs', '23', 'online', 'deletion', 'removes', 'coding', 'regions', 'exons', '1', '2', 'well', 'intron', '1', '2774', 'bp', '492', 'bp', 'intron', '2', '36608', 'bp', '5', 'sequence', 'including', '5', 'utr', 'entire', 'krt18p48', 'pseudogene', 'ncbi', 'gene', 'id', '340598', 'paternity', 'proven', 'using', 'routine', 'methods', 'find', 'deletions', 'overlapping', 'fam58a', 'available', 'copy', 'number', 'variation', 'cnv', 'databases', 'subsequently', 'carried', 'qpcr', 'analysis', 'three', 'affected', 'individuals', 'cases', '2', '3', '4', 'motherdaughter', 'pair', 'literature', 'cases', '5', '6', 'case', '3', 'detected', 'de', 'novo', 'heterozygous', 'deletion', '11', '103', 'kb', 'overlapping', 'exon', '5', 'supplementary', 'fig', '1b', 'online', 'using', 'xq28targeted', 'array', 'cgh', 'breakpoint', 'cloning', 'identified', 'deletion', '4249', 'bp', 'g152504123', '152508371del', 'chromosome', 'x', 'ncbi', 'build', '362', 'fig', '1j', 'supplementary', 'figs', '23', 'removed', '1265', 'bp', 'intron', '4', 'exon', '5', 'including', '3', 'utr', '2454', 'bp', '3', 'sequence', 'found', 'heterozygous', 'fam58a', 'point', 'mutations', 'remaining', 'cases', 'fig', '1j', 'supplementary', 'fig', '2', 'supplementary', 'methods', 'supplementary', 'table', '1', 'case', '2', 'identified', 'mutation', '5551g', 'a', 'affecting', 'splice', 'donor', 'site', 'intron', '4', 'case', '4', 'identified', 'frameshift', 'mutation', '201dupt', 'immediately', 'results', 'premature', 'stop', 'codon', 'n68xfsx1', 'cases', '5', '6', 'detected', 'mutation', '5561g', 'a', 'alters', 'splice', 'acceptor', 'site', 'intron', '4', 'validated', 'point', 'mutations', 'deletions', 'independent', 'rounds', 'pcr', 'sequencing', 'qpcr', 'confirmed', 'paternity', 'de', 'novo', 'status', 'point', 'mutations', 'deletions', 'sporadic', 'cases', 'none', 'mutations', 'seen', 'dna', '60', 'unaffected', 'female', 'controls', 'larger', 'deletions', 'involving', 'fam58a', 'found', '93', 'unrelated', 'arraycgh', 'investigations', 'analyzing', 'xchromosome', 'inactivation', 'supplementary', 'methods', 'supplementary', 'fig', '4', 'online', 'found', 'complete', 'skewing', 'x', 'inactivation', 'cases', '1', '3', '6', 'almost', 'complete', 'skewing', 'case', '2', 'suggesting', 'cells', 'carrying', 'mutation', 'active', 'x', 'chromosome', 'growth', 'disadvantage', 'fetal', 'development', 'using', 'rtpcr', 'rna', 'lymphoblastoid', 'cells', 'case', '2', 'supplementary', 'fig', '2', 'find', 'aberrant', 'splice', 'products', 'additional', 'evidence', 'mutated', 'allele', 'inactivated', 'furthermore', 'fam58a', 'subjected', 'x', 'inactivation6', 'cases', '1', '3', 'parental', 'origin', 'deletions', 'could', 'determined', 'result', 'lack', 'informative', 'snps', 'case', '5', 'mother', 'case', '6', 'gave', 'birth', 'two', 'boys', 'clinically', 'unaffected', 'samples', 'available', 'cannot', 'exclude', 'condition', 'lethal', 'males', 'fetal', 'losses', 'reported', 'families', 'function', 'fam58a', 'unknown', 'gene', 'consists', 'five', 'coding', 'exons', '642bp', 'coding', 'region', 'encodes', 'protein', '214', 'amino', 'acids', 'genbank', 'lists', 'mrna', 'length', '1257', 'bp', 'reference', 'sequence', 'nm', '1522742', 'expression', 'gene', 'est', 'data', 'found', '27', '48', 'adult', 'tissues', 'including', 'kidney', 'colon', 'cervix', 'uterus', 'heart', 'ncbi', 'expression', 'viewer', 'unigene', 'hs496943', 'expression', 'also', 'noted', '24', '26', 'listed', 'tumor', 'tissues', 'well', 'embryo', 'fetus', 'genes', 'homologous', 'fam58a', 'ncbi', 'homologene', '13362', 'found', 'x', 'chromosome', 'chimpanzee', 'dog', 'zebrafish', 'similar', 'gene', 'chromosome', '23', 'however', 'mouse', 'rat', 'true', 'homologs', 'species', 'similar', 'intronless', 'genes', 'chromosomes', '11', 'mouse', '10', 'rat', 'likely', 'arising', 'retrotransposon', 'insertion', 'event', 'murine', 'x', 'chromosome', 'flanking', 'genes', 'atp2b3', 'dusp9', 'conserved', 'remnants', 'fam58a', 'sequence', 'detected', 'fam58a', 'contains', 'cyclinboxfold', 'domain', 'proteinbinding', 'domain', 'found', 'cyclins', 'role', 'cell', 'cycle', 'transcription', 'control', 'human', 'phenotype', 'resulting', 'cyclin', 'gene', 'mutation', 'yet', 'reported', 'homozygous', 'knockout', 'mice', 'ccnd1', 'encoding', 'cyclin', 'd1', 'viable', 'small', 'reduced', 'lifespan', 'also', 'dystrophic', 'changes', 'retina', 'likely', 'result', 'decreased', 'cell', 'proliferation', 'degeneration', 'photoreceptor', 'cells', 'embryogenesis7', '8', 'cyclin', 'd1', 'colocalizes', 'sall4', 'nucleus', 'proteins', 'cooperatively', 'mediate', 'transcriptional', 'repression9', 'phenotype', 'cases', 'overlaps', 'considerably', 'townesbrocks', 'syndrome', 'caused', 'sall1', 'mutations1', 'carried', 'coimmunoprecipitation', 'find', 'sall1', 'sall4', 'would', 'interact', 'fam58a', 'manner', 'similar', 'observed', 'sall4', 'cyclin', 'd1', 'found', 'fam58a', 'interacts', 'sall1', 'sall4', 'supplementary', 'fig', '5', 'online', 'supporting', 'hypothesis', 'fam58a', 'sall1', 'participate', 'developmental', 'pathway', 'fam58a', 'mutations', 'lead', 'star', 'syndrome', 'growth', 'retardation', 'cases', 'table', '1', 'retinal', 'abnormalities', 'three', 'cases', 'reminiscent', 'reduced', 'body', 'size', 'retinal', 'anomalies', 'cyclin', 'd1', 'knockout', 'mice7', '8', 'therefore', 'proliferation', 'defect', 'might', 'partly', 'responsible', 'star', 'syndrome', 'address', 'question', 'carried', 'knockdown', 'fam58a', 'mrna', 'followed', 'proliferation', 'assay', 'transfection', 'hek293', 'cells', 'three', 'different', 'fam58aspecific', 'rnai', 'oligonucleotides', 'resulted', 'significant', 'reduction', 'fam58a', 'mrna', 'expression', 'proliferation', 'transfected', 'cells', 'supplementary', 'methods', 'supplementary', 'fig', '6', 'online', 'supporting', 'link', 'fam58a', 'cell', 'proliferation', 'found', 'lossoffunction', 'mutations', 'fam58a', 'result', 'rather', 'homogeneous', 'clinical', 'phenotype', 'additional', 'anomalies', 'case', '1', 'likely', 'result', 'effect', '40kb', 'deletion', 'expression', 'neighboring', 'gene', 'possibly', 'atp2b3', 'dusp9', 'however', 'cannot', 'exclude', 'homogeneous', 'phenotype', 'results', 'ascertainment', 'bias', 'fam58a', 'mutations', 'including', 'missense', 'changes', 'could', 'result', 'broader', 'spectrum', 'malformations', 'genes', 'causing', 'overlapping', 'phenotypes', 'star', 'syndrome', 'townesbrocks', 'syndrome', 'seem', 'act', 'pathway', 'note', 'mycn', 'gene', 'mutated', 'feingold', 'syndrome', 'direct', 'regulator', 'cyclin', 'd2', 'refs', '1011', 'thus', 'worth', 'exploring', 'whether', 'phenotypic', 'similarities', 'feingold', 'star', 'syndrome', 'might', 'explained', 'direct', 'regulation', 'fam58a', 'mycn', 'fam58a', 'located', 'approximately', '056', 'mb', 'centromeric', 'mecp2', 'xq28', 'duplications', 'overlapping', 'mecp2', 'fam58a', 'described', 'associated', 'clinical', 'phenotype', 'females12', 'deletions', 'overlapping', 'mecp2', 'fam58a', 'observed', 'date13', 'although', 'genes', 'fam58a', 'mecp2', 'implicated', 'brain', 'development', 'fam58a', 'mecp2', 'genes', 'region', 'known', 'result', 'xlinked', 'dominant', 'phenotypes', 'thus', 'deletion', 'genes', 'allele', 'might', 'lethal', 'males', 'females'], tags=['Text_0'])"
      ]
     },
     "execution_count": 5,
     "metadata": {},
     "output_type": "execute_result"
    }
   ],
   "source": [
    "sentences[0]"
   ]
  },
  {
   "cell_type": "code",
   "execution_count": 6,
   "metadata": {},
   "outputs": [
    {
     "name": "stdout",
     "output_type": "stream",
     "text": [
      "[ 0.58877391  0.22714241 -0.51863343  0.95805782 -1.20313203 -0.78342247\n",
      "  1.47065556 -0.79147148 -0.4045755   0.31363928  0.64597881 -0.80833185\n",
      "  0.71508533 -0.39346597  0.74714977 -0.85466069  1.1426568  -1.36206746\n",
      "  0.03387497 -0.68210995  1.04922903  0.22581473  0.1792437   0.7870149\n",
      "  0.2268068  -0.72280908 -0.29631984  0.67567843 -0.27874869  0.08863441\n",
      "  0.12197754  0.19635455 -0.46857181 -0.00280831  0.53388882 -0.21083963\n",
      " -0.12989703 -0.31110469 -0.13481045 -0.02817693 -1.849087    0.06344689\n",
      "  0.03277972  0.78843325 -0.63804418  0.19981936  0.56194538 -0.20125742\n",
      " -0.45088783  0.61934203]\n"
     ]
    }
   ],
   "source": [
    "from gensim.models import Doc2Vec\n",
    "\n",
    "Text_INPUT_DIM=300\n",
    "\n",
    "\n",
    "text_model=None\n",
    "filename='docEmbeddings_5_clean.d2v'\n",
    "if os.path.isfile(filename):\n",
    "    text_model = Doc2Vec.load(filename)\n",
    "else:\n",
    "    text_model = Doc2Vec(min_count=1, window=5, size=Text_INPUT_DIM, sample=1e-4, negative=5, workers=4, iter=5,seed=1)\n",
    "    text_model.build_vocab(sentences)\n",
    "    text_model.train(sentences, total_examples=text_model.corpus_count, epochs=text_model.iter)\n",
    "    text_model.save(filename)\n",
    "    \n",
    "text_train_arrays = np.zeros((train_size, Text_INPUT_DIM))\n",
    "text_test_arrays = np.zeros((test_size, Text_INPUT_DIM))\n",
    "\n",
    "for i in range(train_size):\n",
    "    text_train_arrays[i] = text_model.docvecs['Text_'+str(i)]\n",
    "\n",
    "j=0\n",
    "for i in range(train_size,train_size+test_size):\n",
    "    text_test_arrays[j] = text_model.docvecs['Text_'+str(i)]\n",
    "    j=j+1\n",
    "    \n",
    "print(text_train_arrays[0][:50])"
   ]
  },
  {
   "cell_type": "code",
   "execution_count": 7,
   "metadata": {},
   "outputs": [
    {
     "name": "stdout",
     "output_type": "stream",
     "text": [
      "[[ 1.  0.  0. ...,  0.  0.  0.]\n",
      " [ 0.  1.  0. ...,  0.  0.  0.]\n",
      " [ 0.  1.  0. ...,  0.  0.  0.]\n",
      " ..., \n",
      " [ 1.  0.  0. ...,  0.  0.  0.]\n",
      " [ 0.  0.  0. ...,  0.  0.  0.]\n",
      " [ 0.  0.  0. ...,  0.  0.  0.]]\n"
     ]
    }
   ],
   "source": [
    "from keras.utils import np_utils\n",
    "from sklearn.preprocessing import LabelEncoder\n",
    "\n",
    "label_encoder = LabelEncoder()\n",
    "label_encoder.fit(train_y)\n",
    "encoded_y = np_utils.to_categorical((label_encoder.transform(train_y)))\n",
    "print(encoded_y)"
   ]
  },
  {
   "cell_type": "code",
   "execution_count": 8,
   "metadata": {},
   "outputs": [
    {
     "name": "stdout",
     "output_type": "stream",
     "text": [
      "[ 0.58877391  0.22714241 -0.51863343  0.95805782 -1.20313203 -0.78342247\n",
      "  1.47065556 -0.79147148 -0.4045755   0.31363928  0.64597881 -0.80833185\n",
      "  0.71508533 -0.39346597  0.74714977 -0.85466069  1.1426568  -1.36206746\n",
      "  0.03387497 -0.68210995  1.04922903  0.22581473  0.1792437   0.7870149\n",
      "  0.2268068  -0.72280908 -0.29631984  0.67567843 -0.27874869  0.08863441\n",
      "  0.12197754  0.19635455 -0.46857181 -0.00280831  0.53388882 -0.21083963\n",
      " -0.12989703 -0.31110469 -0.13481045 -0.02817693 -1.849087    0.06344689\n",
      "  0.03277972  0.78843325 -0.63804418  0.19981936  0.56194538 -0.20125742\n",
      " -0.45088783  0.61934203]\n"
     ]
    }
   ],
   "source": [
    "train_set=text_train_arrays\n",
    "test_set=text_test_arrays\n",
    "print(train_set[0][:50])"
   ]
  },
  {
   "cell_type": "code",
   "execution_count": 9,
   "metadata": {},
   "outputs": [
    {
     "name": "stdout",
     "output_type": "stream",
     "text": [
      "_________________________________________________________________\n",
      "Layer (type)                 Output Shape              Param #   \n",
      "=================================================================\n",
      "dense_1 (Dense)              (None, 256)               77056     \n",
      "_________________________________________________________________\n",
      "dropout_1 (Dropout)          (None, 256)               0         \n",
      "_________________________________________________________________\n",
      "dense_2 (Dense)              (None, 180)               46260     \n",
      "_________________________________________________________________\n",
      "dropout_2 (Dropout)          (None, 180)               0         \n",
      "_________________________________________________________________\n",
      "dense_3 (Dense)              (None, 90)                16290     \n",
      "_________________________________________________________________\n",
      "dense_4 (Dense)              (None, 9)                 819       \n",
      "=================================================================\n",
      "Total params: 140,425\n",
      "Trainable params: 140,425\n",
      "Non-trainable params: 0\n",
      "_________________________________________________________________\n"
     ]
    }
   ],
   "source": [
    "from keras.models import Sequential\n",
    "from keras.layers import Dense, Dropout, LSTM, Embedding, Input, RepeatVector\n",
    "from keras.optimizers import SGD\n",
    "\n",
    "def baseline_model():\n",
    "    model = Sequential()\n",
    "    model.add(Dense(256, input_dim=Text_INPUT_DIM, kernel_initializer='normal', activation='relu'))\n",
    "    model.add(Dropout(0.3))\n",
    "    model.add(Dense(180, kernel_initializer='normal', activation='relu'))\n",
    "    model.add(Dropout(0.4))\n",
    "    model.add(Dense(90, kernel_initializer='normal', activation='relu'))\n",
    "    model.add(Dense(9, kernel_initializer='normal', activation=\"softmax\"))\n",
    "    \n",
    "    sgd = SGD(lr=0.01, decay=1e-6, momentum=0.9, nesterov=True)  \n",
    "    model.compile(loss='categorical_crossentropy', optimizer=sgd, metrics=['accuracy'])\n",
    "    return model\n",
    "model = baseline_model()\n",
    "model.summary()"
   ]
  },
  {
   "cell_type": "code",
   "execution_count": 25,
   "metadata": {},
   "outputs": [
    {
     "name": "stdout",
     "output_type": "stream",
     "text": [
      "Train on 2656 samples, validate on 665 samples\n",
      "Epoch 1/50\n",
      "2656/2656 [==============================] - ETA: 0s - loss: 0.0698 - acc: 0.968 - ETA: 0s - loss: 0.0990 - acc: 0.964 - ETA: 0s - loss: 0.1116 - acc: 0.957 - ETA: 0s - loss: 0.1046 - acc: 0.961 - 0s - loss: 0.1057 - acc: 0.9601 - val_loss: 5.9027 - val_acc: 0.3203\n",
      "Epoch 2/50\n",
      "2656/2656 [==============================] - ETA: 0s - loss: 0.1065 - acc: 0.968 - ETA: 0s - loss: 0.0819 - acc: 0.971 - ETA: 0s - loss: 0.0926 - acc: 0.970 - ETA: 0s - loss: 0.0941 - acc: 0.967 - 0s - loss: 0.0935 - acc: 0.9676 - val_loss: 6.0550 - val_acc: 0.3038\n",
      "Epoch 3/50\n",
      "2656/2656 [==============================] - ETA: 0s - loss: 0.0929 - acc: 0.968 - ETA: 0s - loss: 0.1092 - acc: 0.964 - ETA: 0s - loss: 0.1025 - acc: 0.964 - 0s - loss: 0.1043 - acc: 0.9605 - val_loss: 5.6955 - val_acc: 0.3158\n",
      "Epoch 4/50\n",
      "2656/2656 [==============================] - ETA: 0s - loss: 0.0534 - acc: 0.984 - ETA: 0s - loss: 0.1077 - acc: 0.962 - ETA: 0s - loss: 0.1131 - acc: 0.961 - ETA: 0s - loss: 0.1129 - acc: 0.961 - 0s - loss: 0.1190 - acc: 0.9597 - val_loss: 5.8163 - val_acc: 0.3338\n",
      "Epoch 5/50\n",
      "2656/2656 [==============================] - ETA: 0s - loss: 0.0397 - acc: 0.984 - ETA: 0s - loss: 0.1035 - acc: 0.961 - ETA: 0s - loss: 0.1285 - acc: 0.956 - ETA: 0s - loss: 0.1175 - acc: 0.959 - ETA: 0s - loss: 0.1089 - acc: 0.962 - 0s - loss: 0.1123 - acc: 0.9616 - val_loss: 5.9062 - val_acc: 0.3248\n",
      "Epoch 6/50\n",
      "2656/2656 [==============================] - ETA: 0s - loss: 0.0604 - acc: 0.984 - ETA: 0s - loss: 0.1148 - acc: 0.964 - ETA: 0s - loss: 0.1011 - acc: 0.970 - ETA: 0s - loss: 0.0979 - acc: 0.970 - ETA: 0s - loss: 0.0968 - acc: 0.967 - 0s - loss: 0.0952 - acc: 0.9691 - val_loss: 5.8495 - val_acc: 0.3203\n",
      "Epoch 7/50\n",
      "2656/2656 [==============================] - ETA: 0s - loss: 0.1546 - acc: 0.953 - ETA: 0s - loss: 0.0941 - acc: 0.967 - ETA: 0s - loss: 0.1109 - acc: 0.962 - ETA: 0s - loss: 0.1042 - acc: 0.965 - ETA: 0s - loss: 0.0987 - acc: 0.965 - 0s - loss: 0.0946 - acc: 0.9665 - val_loss: 6.1271 - val_acc: 0.3173\n",
      "Epoch 8/50\n",
      "2656/2656 [==============================] - ETA: 0s - loss: 0.0959 - acc: 0.984 - ETA: 0s - loss: 0.0844 - acc: 0.968 - ETA: 0s - loss: 0.0959 - acc: 0.961 - ETA: 0s - loss: 0.1029 - acc: 0.958 - ETA: 0s - loss: 0.1037 - acc: 0.959 - 0s - loss: 0.1075 - acc: 0.9567 - val_loss: 5.8500 - val_acc: 0.3278\n",
      "Epoch 9/50\n",
      "2656/2656 [==============================] - ETA: 0s - loss: 0.0832 - acc: 0.968 - ETA: 0s - loss: 0.1062 - acc: 0.967 - ETA: 0s - loss: 0.0969 - acc: 0.968 - ETA: 0s - loss: 0.0935 - acc: 0.968 - ETA: 0s - loss: 0.1047 - acc: 0.964 - 0s - loss: 0.1023 - acc: 0.9650 - val_loss: 5.5497 - val_acc: 0.3128\n",
      "Epoch 10/50\n",
      "2656/2656 [==============================] - ETA: 0s - loss: 0.0612 - acc: 0.968 - ETA: 0s - loss: 0.0821 - acc: 0.974 - ETA: 0s - loss: 0.0854 - acc: 0.967 - ETA: 0s - loss: 0.0922 - acc: 0.964 - ETA: 0s - loss: 0.0972 - acc: 0.964 - 0s - loss: 0.0950 - acc: 0.9639 - val_loss: 5.9032 - val_acc: 0.2992\n",
      "Epoch 11/50\n",
      "2656/2656 [==============================] - ETA: 0s - loss: 0.2641 - acc: 0.953 - ETA: 0s - loss: 0.1382 - acc: 0.962 - ETA: 0s - loss: 0.1118 - acc: 0.965 - ETA: 0s - loss: 0.1195 - acc: 0.958 - ETA: 0s - loss: 0.1101 - acc: 0.960 - 0s - loss: 0.1043 - acc: 0.9627 - val_loss: 5.8742 - val_acc: 0.3068\n",
      "Epoch 12/50\n",
      "2656/2656 [==============================] - ETA: 0s - loss: 0.0711 - acc: 0.984 - ETA: 0s - loss: 0.0991 - acc: 0.965 - ETA: 0s - loss: 0.1052 - acc: 0.963 - ETA: 0s - loss: 0.1081 - acc: 0.964 - ETA: 0s - loss: 0.0996 - acc: 0.968 - 0s - loss: 0.0966 - acc: 0.9699 - val_loss: 5.9412 - val_acc: 0.2887\n",
      "Epoch 13/50\n",
      "2656/2656 [==============================] - ETA: 0s - loss: 0.1461 - acc: 0.984 - ETA: 0s - loss: 0.0971 - acc: 0.971 - ETA: 0s - loss: 0.1051 - acc: 0.970 - ETA: 0s - loss: 0.0943 - acc: 0.971 - 0s - loss: 0.0897 - acc: 0.9736 - val_loss: 5.9078 - val_acc: 0.3143\n",
      "Epoch 14/50\n",
      "2656/2656 [==============================] - ETA: 0s - loss: 0.1007 - acc: 0.968 - ETA: 0s - loss: 0.0704 - acc: 0.981 - ETA: 0s - loss: 0.0798 - acc: 0.974 - 0s - loss: 0.0904 - acc: 0.9680 - val_loss: 5.7670 - val_acc: 0.3323\n",
      "Epoch 15/50\n",
      "2656/2656 [==============================] - ETA: 0s - loss: 0.1213 - acc: 0.937 - ETA: 0s - loss: 0.1239 - acc: 0.951 - ETA: 0s - loss: 0.1114 - acc: 0.962 - ETA: 0s - loss: 0.1074 - acc: 0.964 - 0s - loss: 0.1052 - acc: 0.9657 - val_loss: 5.7725 - val_acc: 0.3203\n",
      "Epoch 16/50\n",
      "2656/2656 [==============================] - ETA: 0s - loss: 0.0567 - acc: 0.984 - ETA: 0s - loss: 0.0743 - acc: 0.972 - ETA: 0s - loss: 0.0848 - acc: 0.970 - ETA: 0s - loss: 0.0820 - acc: 0.969 - ETA: 0s - loss: 0.0867 - acc: 0.970 - 0s - loss: 0.0899 - acc: 0.9676 - val_loss: 5.7673 - val_acc: 0.3203\n",
      "Epoch 17/50\n",
      "2656/2656 [==============================] - ETA: 0s - loss: 0.0992 - acc: 0.968 - ETA: 0s - loss: 0.0926 - acc: 0.968 - ETA: 0s - loss: 0.1045 - acc: 0.961 - ETA: 0s - loss: 0.1178 - acc: 0.958 - ETA: 0s - loss: 0.1125 - acc: 0.958 - 0s - loss: 0.1125 - acc: 0.9578 - val_loss: 5.6761 - val_acc: 0.3248\n",
      "Epoch 18/50\n",
      "2656/2656 [==============================] - ETA: 0s - loss: 0.1559 - acc: 0.953 - ETA: 0s - loss: 0.1190 - acc: 0.960 - ETA: 0s - loss: 0.1184 - acc: 0.957 - ETA: 0s - loss: 0.1313 - acc: 0.957 - ETA: 0s - loss: 0.1158 - acc: 0.962 - 0s - loss: 0.1158 - acc: 0.9627 - val_loss: 5.7983 - val_acc: 0.3128\n",
      "Epoch 19/50\n",
      "2656/2656 [==============================] - ETA: 0s - loss: 0.1372 - acc: 0.937 - ETA: 0s - loss: 0.0834 - acc: 0.970 - ETA: 0s - loss: 0.0854 - acc: 0.972 - ETA: 0s - loss: 0.0921 - acc: 0.967 - 0s - loss: 0.0860 - acc: 0.9695 - val_loss: 5.7821 - val_acc: 0.3173\n",
      "Epoch 20/50\n",
      "2656/2656 [==============================] - ETA: 0s - loss: 0.1599 - acc: 0.906 - ETA: 0s - loss: 0.0977 - acc: 0.967 - ETA: 0s - loss: 0.0871 - acc: 0.967 - ETA: 0s - loss: 0.0875 - acc: 0.965 - ETA: 0s - loss: 0.0851 - acc: 0.967 - 0s - loss: 0.0858 - acc: 0.9669 - val_loss: 5.7969 - val_acc: 0.3143\n",
      "Epoch 21/50\n",
      "2656/2656 [==============================] - ETA: 0s - loss: 0.1204 - acc: 0.921 - ETA: 0s - loss: 0.0925 - acc: 0.961 - ETA: 0s - loss: 0.0933 - acc: 0.964 - ETA: 0s - loss: 0.0939 - acc: 0.962 - ETA: 0s - loss: 0.0905 - acc: 0.963 - 0s - loss: 0.0926 - acc: 0.9627 - val_loss: 6.0209 - val_acc: 0.3098\n",
      "Epoch 22/50\n",
      "2656/2656 [==============================] - ETA: 0s - loss: 0.0641 - acc: 0.968 - ETA: 0s - loss: 0.0785 - acc: 0.974 - ETA: 0s - loss: 0.0742 - acc: 0.971 - ETA: 0s - loss: 0.0804 - acc: 0.971 - ETA: 0s - loss: 0.0789 - acc: 0.971 - 0s - loss: 0.0775 - acc: 0.9714 - val_loss: 6.1267 - val_acc: 0.3083\n",
      "Epoch 23/50\n",
      "2656/2656 [==============================] - ETA: 0s - loss: 0.1591 - acc: 0.953 - ETA: 0s - loss: 0.0873 - acc: 0.967 - ETA: 0s - loss: 0.0862 - acc: 0.969 - ETA: 0s - loss: 0.0835 - acc: 0.969 - ETA: 0s - loss: 0.0796 - acc: 0.969 - 0s - loss: 0.0784 - acc: 0.9703 - val_loss: 6.2276 - val_acc: 0.3158\n",
      "Epoch 24/50\n",
      "2656/2656 [==============================] - ETA: 0s - loss: 0.0575 - acc: 0.984 - ETA: 0s - loss: 0.0685 - acc: 0.978 - ETA: 0s - loss: 0.0800 - acc: 0.973 - ETA: 0s - loss: 0.0841 - acc: 0.972 - 0s - loss: 0.0905 - acc: 0.9695 - val_loss: 5.8657 - val_acc: 0.3008\n",
      "Epoch 25/50\n",
      "2656/2656 [==============================] - ETA: 0s - loss: 0.0484 - acc: 0.984 - ETA: 0s - loss: 0.0813 - acc: 0.974 - ETA: 0s - loss: 0.0936 - acc: 0.967 - 0s - loss: 0.0954 - acc: 0.9646 - val_loss: 5.6153 - val_acc: 0.3564\n",
      "Epoch 26/50\n",
      "2656/2656 [==============================] - ETA: 0s - loss: 0.0385 - acc: 1.000 - ETA: 0s - loss: 0.0835 - acc: 0.973 - ETA: 0s - loss: 0.0877 - acc: 0.969 - ETA: 0s - loss: 0.0968 - acc: 0.965 - 0s - loss: 0.0970 - acc: 0.9654 - val_loss: 5.9228 - val_acc: 0.2872\n",
      "Epoch 27/50\n",
      "2656/2656 [==============================] - ETA: 0s - loss: 0.0827 - acc: 0.968 - ETA: 0s - loss: 0.1092 - acc: 0.960 - ETA: 0s - loss: 0.1066 - acc: 0.963 - 0s - loss: 0.1035 - acc: 0.9669 - val_loss: 5.9203 - val_acc: 0.3248\n",
      "Epoch 28/50\n"
     ]
    },
    {
     "name": "stdout",
     "output_type": "stream",
     "text": [
      "2656/2656 [==============================] - ETA: 0s - loss: 0.0947 - acc: 0.953 - ETA: 0s - loss: 0.0633 - acc: 0.977 - ETA: 0s - loss: 0.0708 - acc: 0.976 - ETA: 0s - loss: 0.0808 - acc: 0.971 - ETA: 0s - loss: 0.0816 - acc: 0.970 - 0s - loss: 0.0816 - acc: 0.9710 - val_loss: 5.7508 - val_acc: 0.3353\n",
      "Epoch 29/50\n",
      "2656/2656 [==============================] - ETA: 0s - loss: 0.0660 - acc: 0.968 - ETA: 0s - loss: 0.0827 - acc: 0.970 - ETA: 0s - loss: 0.1004 - acc: 0.964 - ETA: 0s - loss: 0.0911 - acc: 0.966 - ETA: 0s - loss: 0.0932 - acc: 0.966 - 0s - loss: 0.0940 - acc: 0.9657 - val_loss: 5.9369 - val_acc: 0.3008\n",
      "Epoch 30/50\n",
      "2656/2656 [==============================] - ETA: 0s - loss: 0.0713 - acc: 0.984 - ETA: 0s - loss: 0.1057 - acc: 0.962 - ETA: 0s - loss: 0.0906 - acc: 0.968 - ETA: 0s - loss: 0.0942 - acc: 0.968 - ETA: 0s - loss: 0.0955 - acc: 0.966 - 0s - loss: 0.0917 - acc: 0.9684 - val_loss: 5.7642 - val_acc: 0.3128\n",
      "Epoch 31/50\n",
      "2656/2656 [==============================] - ETA: 0s - loss: 0.0398 - acc: 0.984 - ETA: 0s - loss: 0.0687 - acc: 0.970 - ETA: 0s - loss: 0.0721 - acc: 0.974 - ETA: 0s - loss: 0.0667 - acc: 0.973 - ETA: 0s - loss: 0.0689 - acc: 0.974 - 0s - loss: 0.0698 - acc: 0.9740 - val_loss: 6.3086 - val_acc: 0.2932\n",
      "Epoch 32/50\n",
      "2656/2656 [==============================] - ETA: 0s - loss: 0.0849 - acc: 0.968 - ETA: 0s - loss: 0.0806 - acc: 0.970 - ETA: 0s - loss: 0.0877 - acc: 0.968 - ETA: 0s - loss: 0.0843 - acc: 0.969 - 0s - loss: 0.0805 - acc: 0.9710 - val_loss: 5.9908 - val_acc: 0.3218\n",
      "Epoch 33/50\n",
      "2656/2656 [==============================] - ETA: 0s - loss: 0.0483 - acc: 0.984 - ETA: 0s - loss: 0.0675 - acc: 0.976 - ETA: 0s - loss: 0.0674 - acc: 0.977 - ETA: 0s - loss: 0.0646 - acc: 0.978 - ETA: 0s - loss: 0.0709 - acc: 0.976 - 0s - loss: 0.0724 - acc: 0.9759 - val_loss: 6.2622 - val_acc: 0.3008\n",
      "Epoch 34/50\n",
      "2656/2656 [==============================] - ETA: 0s - loss: 0.0523 - acc: 0.984 - ETA: 0s - loss: 0.0800 - acc: 0.975 - ETA: 0s - loss: 0.0764 - acc: 0.970 - ETA: 0s - loss: 0.0760 - acc: 0.973 - 0s - loss: 0.0788 - acc: 0.9733 - val_loss: 6.2021 - val_acc: 0.3173\n",
      "Epoch 35/50\n",
      "2656/2656 [==============================] - ETA: 0s - loss: 0.0921 - acc: 0.968 - ETA: 0s - loss: 0.0875 - acc: 0.975 - ETA: 0s - loss: 0.0712 - acc: 0.979 - ETA: 0s - loss: 0.0825 - acc: 0.972 - 0s - loss: 0.0790 - acc: 0.9721 - val_loss: 5.9699 - val_acc: 0.3188\n",
      "Epoch 36/50\n",
      "2656/2656 [==============================] - ETA: 0s - loss: 0.0439 - acc: 0.984 - ETA: 0s - loss: 0.0815 - acc: 0.963 - ETA: 0s - loss: 0.0775 - acc: 0.970 - ETA: 0s - loss: 0.0826 - acc: 0.970 - 0s - loss: 0.0838 - acc: 0.9695 - val_loss: 6.0361 - val_acc: 0.3038\n",
      "Epoch 37/50\n",
      "2656/2656 [==============================] - ETA: 0s - loss: 0.0459 - acc: 0.984 - ETA: 0s - loss: 0.0754 - acc: 0.978 - ETA: 0s - loss: 0.0780 - acc: 0.977 - ETA: 0s - loss: 0.0905 - acc: 0.971 - ETA: 0s - loss: 0.0936 - acc: 0.969 - 0s - loss: 0.0930 - acc: 0.9684 - val_loss: 6.1863 - val_acc: 0.2977\n",
      "Epoch 38/50\n",
      "2656/2656 [==============================] - ETA: 0s - loss: 0.1016 - acc: 0.937 - ETA: 0s - loss: 0.1060 - acc: 0.956 - ETA: 0s - loss: 0.0984 - acc: 0.962 - ETA: 0s - loss: 0.1052 - acc: 0.959 - ETA: 0s - loss: 0.0969 - acc: 0.964 - 0s - loss: 0.0960 - acc: 0.9642 - val_loss: 6.2096 - val_acc: 0.3038\n",
      "Epoch 39/50\n",
      "2656/2656 [==============================] - ETA: 0s - loss: 0.0690 - acc: 0.968 - ETA: 0s - loss: 0.0840 - acc: 0.967 - ETA: 0s - loss: 0.0903 - acc: 0.963 - ETA: 0s - loss: 0.0980 - acc: 0.962 - 0s - loss: 0.0910 - acc: 0.9654 - val_loss: 5.9818 - val_acc: 0.3293\n",
      "Epoch 40/50\n",
      "2656/2656 [==============================] - ETA: 0s - loss: 0.0955 - acc: 0.984 - ETA: 0s - loss: 0.0649 - acc: 0.979 - ETA: 0s - loss: 0.0717 - acc: 0.974 - 0s - loss: 0.0699 - acc: 0.9767 - val_loss: 5.8477 - val_acc: 0.3203\n",
      "Epoch 41/50\n",
      "2656/2656 [==============================] - ETA: 0s - loss: 0.0957 - acc: 0.968 - ETA: 0s - loss: 0.0654 - acc: 0.977 - ETA: 0s - loss: 0.0726 - acc: 0.975 - ETA: 0s - loss: 0.0766 - acc: 0.973 - 0s - loss: 0.0760 - acc: 0.9725 - val_loss: 6.2482 - val_acc: 0.3128\n",
      "Epoch 42/50\n",
      "2656/2656 [==============================] - ETA: 0s - loss: 0.0920 - acc: 0.968 - ETA: 0s - loss: 0.0798 - acc: 0.973 - ETA: 0s - loss: 0.0769 - acc: 0.974 - ETA: 0s - loss: 0.0757 - acc: 0.974 - 0s - loss: 0.0750 - acc: 0.9752 - val_loss: 6.0039 - val_acc: 0.3233\n",
      "Epoch 43/50\n",
      "2656/2656 [==============================] - ETA: 0s - loss: 0.0611 - acc: 0.953 - ETA: 0s - loss: 0.0729 - acc: 0.971 - ETA: 0s - loss: 0.0706 - acc: 0.975 - ETA: 0s - loss: 0.0668 - acc: 0.977 - 0s - loss: 0.0668 - acc: 0.9770 - val_loss: 6.1916 - val_acc: 0.3143\n",
      "Epoch 44/50\n",
      "2656/2656 [==============================] - ETA: 0s - loss: 0.0701 - acc: 0.984 - ETA: 0s - loss: 0.0680 - acc: 0.977 - ETA: 0s - loss: 0.0692 - acc: 0.979 - ETA: 0s - loss: 0.0621 - acc: 0.980 - 0s - loss: 0.0628 - acc: 0.9800 - val_loss: 6.1638 - val_acc: 0.3233\n",
      "Epoch 45/50\n",
      "2656/2656 [==============================] - ETA: 0s - loss: 0.0991 - acc: 0.968 - ETA: 0s - loss: 0.0716 - acc: 0.973 - ETA: 0s - loss: 0.0740 - acc: 0.973 - ETA: 0s - loss: 0.0625 - acc: 0.977 - 0s - loss: 0.0614 - acc: 0.9782 - val_loss: 6.2051 - val_acc: 0.3053\n",
      "Epoch 46/50\n",
      "2656/2656 [==============================] - ETA: 0s - loss: 0.0368 - acc: 1.000 - ETA: 0s - loss: 0.0653 - acc: 0.972 - ETA: 0s - loss: 0.0733 - acc: 0.972 - ETA: 0s - loss: 0.0745 - acc: 0.969 - 0s - loss: 0.0765 - acc: 0.9699 - val_loss: 5.9583 - val_acc: 0.3143\n",
      "Epoch 47/50\n",
      "2656/2656 [==============================] - ETA: 0s - loss: 0.0669 - acc: 0.984 - ETA: 0s - loss: 0.0623 - acc: 0.980 - ETA: 0s - loss: 0.0644 - acc: 0.978 - ETA: 0s - loss: 0.0654 - acc: 0.979 - ETA: 0s - loss: 0.0622 - acc: 0.981 - 0s - loss: 0.0650 - acc: 0.9800 - val_loss: 5.8700 - val_acc: 0.3323\n",
      "Epoch 48/50\n",
      "2656/2656 [==============================] - ETA: 0s - loss: 0.0930 - acc: 0.984 - ETA: 0s - loss: 0.0700 - acc: 0.973 - ETA: 0s - loss: 0.0680 - acc: 0.974 - ETA: 0s - loss: 0.0675 - acc: 0.974 - ETA: 0s - loss: 0.0720 - acc: 0.974 - 0s - loss: 0.0720 - acc: 0.9748 - val_loss: 6.2325 - val_acc: 0.2917\n",
      "Epoch 49/50\n",
      "2656/2656 [==============================] - ETA: 0s - loss: 0.1500 - acc: 0.937 - ETA: 0s - loss: 0.0801 - acc: 0.973 - ETA: 0s - loss: 0.0724 - acc: 0.974 - ETA: 0s - loss: 0.0797 - acc: 0.972 - ETA: 0s - loss: 0.0787 - acc: 0.972 - 0s - loss: 0.0783 - acc: 0.9718 - val_loss: 6.3411 - val_acc: 0.3158\n",
      "Epoch 50/50\n",
      "2656/2656 [==============================] - ETA: 0s - loss: 0.0748 - acc: 0.984 - ETA: 0s - loss: 0.0980 - acc: 0.968 - ETA: 0s - loss: 0.0846 - acc: 0.971 - ETA: 0s - loss: 0.0846 - acc: 0.970 - ETA: 0s - loss: 0.0836 - acc: 0.971 - 0s - loss: 0.0862 - acc: 0.9714 - val_loss: 6.1589 - val_acc: 0.3263\n"
     ]
    }
   ],
   "source": [
    "estimator=model.fit(train_set, encoded_y, validation_split=0.2, epochs=50, batch_size=64)"
   ]
  },
  {
   "cell_type": "code",
   "execution_count": 26,
   "metadata": {},
   "outputs": [
    {
     "name": "stdout",
     "output_type": "stream",
     "text": [
      "Training accuracy: 97.14% / Validation accuracy: 32.63%\n"
     ]
    }
   ],
   "source": [
    "print(\"Training accuracy: %.2f%% / Validation accuracy: %.2f%%\" % (100*estimator.history['acc'][-1], 100*estimator.history['val_acc'][-1]))"
   ]
  },
  {
   "cell_type": "code",
   "execution_count": null,
   "metadata": {
    "collapsed": true
   },
   "outputs": [],
   "source": []
  }
 ],
 "metadata": {
  "kernelspec": {
   "display_name": "Python 3",
   "language": "python",
   "name": "python3"
  },
  "language_info": {
   "codemirror_mode": {
    "name": "ipython",
    "version": 3
   },
   "file_extension": ".py",
   "mimetype": "text/x-python",
   "name": "python",
   "nbconvert_exporter": "python",
   "pygments_lexer": "ipython3",
   "version": "3.6.2"
  }
 },
 "nbformat": 4,
 "nbformat_minor": 2
}
