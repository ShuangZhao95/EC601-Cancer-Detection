{
 "cells": [
  {
   "cell_type": "code",
   "execution_count": 1,
   "metadata": {},
   "outputs": [
    {
     "name": "stdout",
     "output_type": "stream",
     "text": [
      "begin imports\n",
      "numpy\n",
      "os\n",
      "re\n",
      "tqdm\n",
      "string\n",
      "pandas\n",
      "keras\n"
     ]
    },
    {
     "name": "stderr",
     "output_type": "stream",
     "text": [
      "Using TensorFlow backend.\n"
     ]
    },
    {
     "name": "stdout",
     "output_type": "stream",
     "text": [
      "keras backend\n",
      "keras np_utilz\n",
      "keras Sequential\n",
      "keras layers\n",
      "keras SGD\n",
      "tables\n",
      "sklearn shuffle\n",
      "sklearn TruncatedSVD\n",
      "sklearn LabelEncoder\n",
      "skplot\n",
      "gensim Doc2Vec\n",
      "gensim LabeledSentence\n",
      "gensim utils\n",
      "nltk stopwords\n",
      "matplotlib\n",
      "matplotlib set backend\n",
      "matplotlib pyplot\n",
      "seaborn\n",
      "done with imports\n"
     ]
    },
    {
     "name": "stderr",
     "output_type": "stream",
     "text": [
      "/share/pkg/python/3.6_intel-2018.1.023/install/intelpython3/lib/python3.6/site-packages/matplotlib/__init__.py:1405: UserWarning: \n",
      "This call to matplotlib.use() has no effect because the backend has already\n",
      "been chosen; matplotlib.use() must be called *before* pylab, matplotlib.pyplot,\n",
      "or matplotlib.backends is imported for the first time.\n",
      "\n",
      "  warnings.warn(_use_error_msg)\n"
     ]
    }
   ],
   "source": [
    "# coding: utf-8\n",
    "\n",
    "from __future__ import print_function\n",
    "print(\"begin imports\")\n",
    "print(\"numpy\")\n",
    "import numpy as np\n",
    "print(\"os\")\n",
    "import os\n",
    "print(\"re\")\n",
    "import re\n",
    "print(\"tqdm\")\n",
    "import tqdm\n",
    "print(\"string\")\n",
    "import string\n",
    "print(\"pandas\")\n",
    "import pandas as pd\n",
    "print(\"keras\")\n",
    "import keras\n",
    "print(\"keras backend\")\n",
    "from keras import backend as K\n",
    "print(\"keras np_utilz\")\n",
    "from keras.utils import np_utils\n",
    "print(\"keras Sequential\")\n",
    "from keras.models import Sequential\n",
    "print(\"keras layers\")\n",
    "from keras.layers import Dense, Dropout, LSTM, Embedding, Input, RepeatVector\n",
    "print(\"keras SGD\")\n",
    "from keras.optimizers import SGD\n",
    "print(\"tables\")\n",
    "import tables\n",
    "print(\"sklearn shuffle\")\n",
    "from sklearn.utils import shuffle\n",
    "print(\"sklearn TruncatedSVD\")\n",
    "from sklearn.decomposition import TruncatedSVD\n",
    "print(\"sklearn LabelEncoder\")\n",
    "from sklearn.preprocessing import LabelEncoder\n",
    "print(\"sklearn train_test_split\")\n",
    "from sklearn.model_selection import train_test_split\n",
    "print(\"skplot\")\n",
    "import scikitplot.plotters as skplt\n",
    "print(\"gensim Doc2Vec\")\n",
    "from gensim.models import Doc2Vec\n",
    "print(\"gensim LabeledSentence\")\n",
    "from gensim.models.doc2vec import LabeledSentence\n",
    "print(\"gensim utils\")\n",
    "from gensim import utils\n",
    "print(\"nltk stopwords\")\n",
    "from nltk.corpus import stopwords\n",
    "print(\"matplotlib\")\n",
    "import matplotlib\n",
    "print(\"matplotlib set backend\")\n",
    "matplotlib.use('TkAgg')\n",
    "print(\"matplotlib pyplot\")\n",
    "import matplotlib.pyplot as plt\n",
    "print(\"seaborn\")\n",
    "import seaborn as sns\n",
    "print(\"done with imports\")\n",
    "\n",
    "\n",
    "#Takes ~50 seconds on cluster to get here"
   ]
  },
  {
   "cell_type": "code",
   "execution_count": 2,
   "metadata": {},
   "outputs": [
    {
     "name": "stdout",
     "output_type": "stream",
     "text": [
      "begin loading setup files\n",
      "done loading setup files\n",
      "Number of training variants: 3321\n",
      "Number of test variants: 5668\n"
     ]
    }
   ],
   "source": [
    "# ## 1. Loading Data\n",
    "\n",
    "\n",
    "\"\"\" Load in setup files, throw a flag if they don't exist \"\"\"\n",
    "\n",
    "print(\"begin loading setup files\")\n",
    "\n",
    "setup_avail = True\n",
    "filename='D2VModel.d2v'\n",
    "text_model=None\n",
    "if os.path.isfile(filename):\n",
    "    text_model = Doc2Vec.load(filename)\n",
    "else:\n",
    "\tsetup_avail = False\n",
    "\tprint(\"no setup files\")\n",
    "\n",
    "store = pd.HDFStore('store.h5')\n",
    "try:\n",
    "\ttrain = store['shuffled']\n",
    "except:\n",
    "\tsetup_avail = False\n",
    "else: \n",
    "\tstore.close()\n",
    "\n",
    "if not setup_avail:\n",
    "\ttrain_variant = pd.read_csv(\"../input/training_variants\")\n",
    "\ttrain_text = pd.read_csv(\"../input/training_text\", sep=\"\\|\\|\", engine='python', header=None, skiprows=1, names=[\"ID\",\"Text\"])\n",
    "\ttrain = pd.merge(train_variant, train_text, how='left', on='ID')\n",
    "\ttrain = shuffle(train)\n",
    "\tstore['shuffled'] = train\n",
    "\tstore.close()\n",
    "\n",
    "print(\"done loading setup files\")\n",
    "\n",
    "\"\"\" Load Data \"\"\"\n",
    "\n",
    "test_variant = pd.read_csv(\"../input/test_variants\")\n",
    "test_text = pd.read_csv(\"../input/test_text\", sep=\"\\|\\|\", engine='python', header=None, skiprows=1, names=[\"ID\",\"Text\"])\n",
    "\n",
    "train_y = train['Class'].values\n",
    "train_x = train.drop('Class', axis=1)\n",
    "train_size=len(train_x)\n",
    "print('Number of training variants: %d' % (train_size))\n",
    "# number of train data : 3321\n",
    "\n",
    "test_x = pd.merge(test_variant, test_text, how='left', on='ID')\n",
    "test_size=len(test_x)\n",
    "print('Number of test variants: %d' % (test_size))\n",
    "# number of test data : 5668\n",
    "\n",
    "test_index = test_x['ID'].values\n",
    "all_data = np.concatenate((train_x, test_x), axis=0)\n",
    "all_data = pd.DataFrame(all_data)\n",
    "all_data.columns = [\"ID\", \"Gene\", \"Variation\", \"Text\"]\n"
   ]
  },
  {
   "cell_type": "code",
   "execution_count": 3,
   "metadata": {},
   "outputs": [
    {
     "data": {
      "text/html": [
       "<div>\n",
       "<style>\n",
       "    .dataframe thead tr:only-child th {\n",
       "        text-align: right;\n",
       "    }\n",
       "\n",
       "    .dataframe thead th {\n",
       "        text-align: left;\n",
       "    }\n",
       "\n",
       "    .dataframe tbody tr th {\n",
       "        vertical-align: top;\n",
       "    }\n",
       "</style>\n",
       "<table border=\"1\" class=\"dataframe\">\n",
       "  <thead>\n",
       "    <tr style=\"text-align: right;\">\n",
       "      <th></th>\n",
       "      <th>ID</th>\n",
       "      <th>Gene</th>\n",
       "      <th>Variation</th>\n",
       "      <th>Text</th>\n",
       "    </tr>\n",
       "  </thead>\n",
       "  <tbody>\n",
       "    <tr>\n",
       "      <th>0</th>\n",
       "      <td>2284</td>\n",
       "      <td>CIC</td>\n",
       "      <td>CIC-DUX4 Fusion</td>\n",
       "      <td>Primitive round cell sarcomas of childhood and...</td>\n",
       "    </tr>\n",
       "    <tr>\n",
       "      <th>1</th>\n",
       "      <td>2275</td>\n",
       "      <td>BCOR</td>\n",
       "      <td>ZC3H7B-BCOR Fusion</td>\n",
       "      <td>Endometrial stromal sarcomas (ESS) are genetic...</td>\n",
       "    </tr>\n",
       "    <tr>\n",
       "      <th>2</th>\n",
       "      <td>1002</td>\n",
       "      <td>TSC1</td>\n",
       "      <td>G305R</td>\n",
       "      <td>Tuberous sclerosis complex (TSC) is an autosom...</td>\n",
       "    </tr>\n",
       "    <tr>\n",
       "      <th>3</th>\n",
       "      <td>3317</td>\n",
       "      <td>RUNX1</td>\n",
       "      <td>A122*</td>\n",
       "      <td>Introduction  Myelodysplastic syndromes (MDS) ...</td>\n",
       "    </tr>\n",
       "    <tr>\n",
       "      <th>4</th>\n",
       "      <td>26</td>\n",
       "      <td>SHOC2</td>\n",
       "      <td>S2G</td>\n",
       "      <td>Abstract N-myristoylation is a common form of...</td>\n",
       "    </tr>\n",
       "  </tbody>\n",
       "</table>\n",
       "</div>"
      ],
      "text/plain": [
       "     ID   Gene           Variation  \\\n",
       "0  2284    CIC     CIC-DUX4 Fusion   \n",
       "1  2275   BCOR  ZC3H7B-BCOR Fusion   \n",
       "2  1002   TSC1               G305R   \n",
       "3  3317  RUNX1               A122*   \n",
       "4    26  SHOC2                 S2G   \n",
       "\n",
       "                                                Text  \n",
       "0  Primitive round cell sarcomas of childhood and...  \n",
       "1  Endometrial stromal sarcomas (ESS) are genetic...  \n",
       "2  Tuberous sclerosis complex (TSC) is an autosom...  \n",
       "3  Introduction  Myelodysplastic syndromes (MDS) ...  \n",
       "4   Abstract N-myristoylation is a common form of...  "
      ]
     },
     "execution_count": 3,
     "metadata": {},
     "output_type": "execute_result"
    }
   ],
   "source": [
    "all_data.head()"
   ]
  },
  {
   "cell_type": "code",
   "execution_count": 4,
   "metadata": {},
   "outputs": [
    {
     "data": {
      "text/plain": [
       "0    primitive round cell sarcomas childhood young ...\n",
       "1    endometrial stromal sarcomas ess genetically h...\n",
       "2    tuberous sclerosis complex tsc autosomal domin...\n",
       "3    introduction myelodysplastic syndromes mds het...\n",
       "4    abstract nmyristoylation common form cotransla...\n",
       "Name: Text, dtype: object"
      ]
     },
     "execution_count": 4,
     "metadata": {},
     "output_type": "execute_result"
    }
   ],
   "source": [
    "\n",
    "# ## 2. Data Preprocessing\n",
    "\n",
    "# In[ ]:\n",
    "\n",
    "def constructLabeledSentences(data):\n",
    "    sentences=[]\n",
    "    for index, row in data.iteritems():\n",
    "        sentences.append(LabeledSentence(utils.to_unicode(row).split(), ['Text' + '_%s' % str(index)]))\n",
    "    return sentences\n",
    "\n",
    "def textClean(text):\n",
    "    text = re.sub(r\"[^A-Za-z0-9^,!.\\/'+-=]\", \" \", text)\n",
    "    text = text.lower().split()\n",
    "    stops = set(stopwords.words(\"english\"))\n",
    "    text = [w for w in text if not w in stops]    \n",
    "    text = \" \".join(text)\n",
    "    return(text)\n",
    "    \n",
    "def cleanup(text):\n",
    "    text = textClean(text)\n",
    "    text= text.translate(str.maketrans(\"\",\"\", string.punctuation))\n",
    "    return text\n",
    "\n",
    "allText = all_data['Text'].apply(cleanup)\n",
    "sentences = constructLabeledSentences(allText)\n",
    "allText.head()"
   ]
  },
  {
   "cell_type": "code",
   "execution_count": 6,
   "metadata": {},
   "outputs": [
    {
     "name": "stdout",
     "output_type": "stream",
     "text": [
      "Begin Doc2Vec Model\n",
      "End Doc2Vec Model\n"
     ]
    }
   ],
   "source": [
    "print(\"Begin Doc2Vec Model\")\n",
    "\n",
    "Text_INPUT_DIM=300\n",
    "\n",
    "if not setup_avail:\n",
    "    text_model = Doc2Vec(min_count=1, window=5, size=Text_INPUT_DIM, sample=1e-4, negative=5, workers=7, iter=10,seed=1)\n",
    "    text_model.build_vocab(sentences)\n",
    "    text_model.train(sentences, total_examples=text_model.corpus_count, epochs=text_model.iter)\n",
    "    text_model.save(filename)\n",
    "\n",
    "print(\"End Doc2Vec Model\")"
   ]
  },
  {
   "cell_type": "code",
   "execution_count": 7,
   "metadata": {},
   "outputs": [
    {
     "name": "stdout",
     "output_type": "stream",
     "text": [
      "[-0.45135194  1.66583931 -0.12528719 -1.49417078 -2.1638658   1.39354491\n",
      " -1.21715832  1.11120188 -0.34445545 -0.38561457  0.65259689 -0.11691736\n",
      "  0.77086622 -0.403433    1.16446376  0.76904172  0.24609642 -0.06541643\n",
      " -0.63856316 -0.38467145 -1.06305599 -1.91410816 -0.15316939 -0.31393236\n",
      "  0.18833895  0.38316119 -1.09165871  0.11352081 -0.01669247 -0.33928594\n",
      " -0.08080816 -0.93482798 -0.69552565 -0.36176333 -0.24439494 -1.17218637\n",
      "  2.06513071  1.01904857  0.62114173  0.36910632  1.85249305 -0.72867024\n",
      "  0.39485288 -1.12593472  0.28866711 -0.87401706  1.28333056  1.08940792\n",
      " -0.249181    0.70731413]\n"
     ]
    }
   ],
   "source": [
    "# Featurize text\n",
    "\n",
    "text_train_arrays = np.zeros((train_size, Text_INPUT_DIM))\n",
    "text_test_arrays = np.zeros((test_size, Text_INPUT_DIM))\n",
    "\n",
    "for i in range(train_size):\n",
    "    text_train_arrays[i] = text_model.docvecs['Text_'+str(i)]\n",
    "\n",
    "j=0\n",
    "for i in range(train_size,train_size+test_size):\n",
    "    text_test_arrays[j] = text_model.docvecs['Text_'+str(i)]\n",
    "    j=j+1\n",
    "    \n",
    "print(text_train_arrays[0][:50])"
   ]
  },
  {
   "cell_type": "code",
   "execution_count": 8,
   "metadata": {},
   "outputs": [
    {
     "name": "stdout",
     "output_type": "stream",
     "text": [
      "[ 0.  0.  0.  0.  0.  0.  0.  0.  1.]\n"
     ]
    }
   ],
   "source": [
    "label_encoder = LabelEncoder()\n",
    "label_encoder.fit(train_y)\n",
    "encoded_y = np_utils.to_categorical((label_encoder.transform(train_y)))\n",
    "print(encoded_y[0])"
   ]
  },
  {
   "cell_type": "code",
   "execution_count": 9,
   "metadata": {},
   "outputs": [
    {
     "name": "stdout",
     "output_type": "stream",
     "text": [
      "[-0.45135194  1.66583931 -0.12528719 -1.49417078 -2.1638658   1.39354491\n",
      " -1.21715832  1.11120188 -0.34445545 -0.38561457  0.65259689 -0.11691736\n",
      "  0.77086622 -0.403433    1.16446376  0.76904172  0.24609642 -0.06541643\n",
      " -0.63856316 -0.38467145 -1.06305599 -1.91410816 -0.15316939 -0.31393236\n",
      "  0.18833895  0.38316119 -1.09165871  0.11352081 -0.01669247 -0.33928594\n",
      " -0.08080816 -0.93482798 -0.69552565 -0.36176333 -0.24439494 -1.17218637\n",
      "  2.06513071  1.01904857  0.62114173  0.36910632  1.85249305 -0.72867024\n",
      "  0.39485288 -1.12593472  0.28866711 -0.87401706  1.28333056  1.08940792\n",
      " -0.249181    0.70731413]\n"
     ]
    }
   ],
   "source": [
    "train_set = text_train_arrays\n",
    "test_set = text_test_arrays\n",
    "print(train_set[0][:50])"
   ]
  },
  {
   "cell_type": "code",
   "execution_count": 10,
   "metadata": {},
   "outputs": [],
   "source": [
    "# ## 4. Define Keras Model\n",
    "\n",
    "def baseline_model():\n",
    "    model = Sequential()\n",
    "    model.add(Dense(256, input_dim=Text_INPUT_DIM, activation='relu', kernel_initializer='normal'))\n",
    "    model.add(Dropout(0.3))\n",
    "    model.add(Dense(256, activation='relu', kernel_initializer='normal'))\n",
    "    model.add(Dropout(0.5))\n",
    "    model.add(Dense(80, activation='relu', kernel_initializer='normal'))\n",
    "    model.add(Dense(9, activation=\"softmax\", kernel_initializer='normal'))\n",
    "    \n",
    "    sgd = SGD(lr=0.01, decay=1e-6, momentum=0.9, nesterov=True)  \n",
    "    model.compile(loss='categorical_crossentropy', optimizer=sgd, metrics=['accuracy'])\n",
    "    return model"
   ]
  },
  {
   "cell_type": "code",
   "execution_count": 11,
   "metadata": {},
   "outputs": [
    {
     "name": "stdout",
     "output_type": "stream",
     "text": [
      "define keras model\n",
      "_________________________________________________________________\n",
      "Layer (type)                 Output Shape              Param #   \n",
      "=================================================================\n",
      "dense_1 (Dense)              (None, 256)               77056     \n",
      "_________________________________________________________________\n",
      "dropout_1 (Dropout)          (None, 256)               0         \n",
      "_________________________________________________________________\n",
      "dense_2 (Dense)              (None, 256)               65792     \n",
      "_________________________________________________________________\n",
      "dropout_2 (Dropout)          (None, 256)               0         \n",
      "_________________________________________________________________\n",
      "dense_3 (Dense)              (None, 80)                20560     \n",
      "_________________________________________________________________\n",
      "dense_4 (Dense)              (None, 9)                 729       \n",
      "=================================================================\n",
      "Total params: 164,137\n",
      "Trainable params: 164,137\n",
      "Non-trainable params: 0\n",
      "_________________________________________________________________\n",
      "done\n"
     ]
    }
   ],
   "source": [
    "print(\"define keras model\")\n",
    "\n",
    "model = baseline_model()\n",
    "model.summary()\n",
    "\n",
    "print(\"done\")"
   ]
  },
  {
   "cell_type": "code",
   "execution_count": null,
   "metadata": {
    "collapsed": true
   },
   "outputs": [],
   "source": [
    "### 5. Training and Evaluating the Model"
   ]
  },
  {
   "cell_type": "code",
   "execution_count": 12,
   "metadata": {
    "collapsed": true
   },
   "outputs": [],
   "source": [
    "x_train, x_test, y_train, y_test = train_test_split(train_set, encoded_y, test_size=0.2, random_state=42)"
   ]
  },
  {
   "cell_type": "code",
   "execution_count": 13,
   "metadata": {},
   "outputs": [
    {
     "name": "stdout",
     "output_type": "stream",
     "text": [
      "Train on 2656 samples, validate on 665 samples\n",
      "Epoch 1/20\n",
      "2656/2656 [==============================] - 2s 567us/step - loss: 1.9066 - acc: 0.2944 - val_loss: 1.7130 - val_acc: 0.3789\n",
      "Epoch 2/20\n",
      "2656/2656 [==============================] - 0s 74us/step - loss: 1.6084 - acc: 0.4127 - val_loss: 1.4009 - val_acc: 0.4541\n",
      "Epoch 3/20\n",
      "2656/2656 [==============================] - 0s 73us/step - loss: 1.4123 - acc: 0.4669 - val_loss: 1.2762 - val_acc: 0.5173\n",
      "Epoch 4/20\n",
      "2656/2656 [==============================] - 0s 76us/step - loss: 1.3314 - acc: 0.5015 - val_loss: 1.2102 - val_acc: 0.5504\n",
      "Epoch 5/20\n",
      "2656/2656 [==============================] - 0s 76us/step - loss: 1.2327 - acc: 0.5399 - val_loss: 1.1828 - val_acc: 0.5338\n",
      "Epoch 6/20\n",
      "2656/2656 [==============================] - 0s 73us/step - loss: 1.1825 - acc: 0.5700 - val_loss: 1.1385 - val_acc: 0.5579\n",
      "Epoch 7/20\n",
      "2656/2656 [==============================] - 0s 74us/step - loss: 1.1393 - acc: 0.5840 - val_loss: 1.1183 - val_acc: 0.6135\n",
      "Epoch 8/20\n",
      "2656/2656 [==============================] - 0s 72us/step - loss: 1.0912 - acc: 0.5911 - val_loss: 1.1175 - val_acc: 0.5985\n",
      "Epoch 9/20\n",
      "2656/2656 [==============================] - 0s 72us/step - loss: 1.0359 - acc: 0.6182 - val_loss: 1.0827 - val_acc: 0.6120\n",
      "Epoch 10/20\n",
      "2656/2656 [==============================] - 0s 72us/step - loss: 0.9902 - acc: 0.6280 - val_loss: 1.0707 - val_acc: 0.6120\n",
      "Epoch 11/20\n",
      "2656/2656 [==============================] - 0s 72us/step - loss: 0.9342 - acc: 0.6547 - val_loss: 1.0459 - val_acc: 0.6361\n",
      "Epoch 12/20\n",
      "2656/2656 [==============================] - 0s 71us/step - loss: 0.8818 - acc: 0.6815 - val_loss: 1.0379 - val_acc: 0.6346\n",
      "Epoch 13/20\n",
      "2656/2656 [==============================] - 0s 72us/step - loss: 0.8461 - acc: 0.6939 - val_loss: 1.0791 - val_acc: 0.6331\n",
      "Epoch 14/20\n",
      "2656/2656 [==============================] - 0s 72us/step - loss: 0.8087 - acc: 0.7018 - val_loss: 1.0975 - val_acc: 0.6165\n",
      "Epoch 15/20\n",
      "2656/2656 [==============================] - 0s 73us/step - loss: 0.7801 - acc: 0.7052 - val_loss: 1.0960 - val_acc: 0.6391\n",
      "Epoch 16/20\n",
      "2656/2656 [==============================] - 0s 73us/step - loss: 0.7526 - acc: 0.7236 - val_loss: 1.0672 - val_acc: 0.6316\n",
      "Epoch 17/20\n",
      "2656/2656 [==============================] - 0s 73us/step - loss: 0.6912 - acc: 0.7413 - val_loss: 1.1387 - val_acc: 0.6105\n",
      "Epoch 18/20\n",
      "2656/2656 [==============================] - 0s 74us/step - loss: 0.6652 - acc: 0.7590 - val_loss: 1.1182 - val_acc: 0.6451\n",
      "Epoch 19/20\n",
      "2656/2656 [==============================] - 0s 72us/step - loss: 0.6514 - acc: 0.7553 - val_loss: 1.1211 - val_acc: 0.6316\n",
      "Epoch 20/20\n",
      "2656/2656 [==============================] - ETA: 0s - loss: 0.6370 - acc: 0.770 - 0s 75us/step - loss: 0.6407 - acc: 0.7700 - val_loss: 1.1407 - val_acc: 0.6241\n"
     ]
    }
   ],
   "source": [
    "estimator=model.fit(x_train, y_train, validation_data = (x_test, y_test), epochs=20, batch_size=64)"
   ]
  },
  {
   "cell_type": "code",
   "execution_count": 14,
   "metadata": {},
   "outputs": [
    {
     "name": "stdout",
     "output_type": "stream",
     "text": [
      "Training accuracy: 77.00% / Validation accuracy: 62.41%\n"
     ]
    }
   ],
   "source": [
    "\n",
    "print(\"Training accuracy: %.2f%% / Validation accuracy: %.2f%%\" % (100*estimator.history['acc'][-1], 100*estimator.history['val_acc'][-1]))\n"
   ]
  },
  {
   "cell_type": "code",
   "execution_count": 15,
   "metadata": {
    "collapsed": true
   },
   "outputs": [],
   "source": [
    "probas = model.predict_proba(x_test)"
   ]
  },
  {
   "cell_type": "code",
   "execution_count": 16,
   "metadata": {
    "collapsed": true
   },
   "outputs": [],
   "source": [
    "pred_indices = np.argmax(probas, axis=1)"
   ]
  },
  {
   "cell_type": "code",
   "execution_count": 17,
   "metadata": {
    "collapsed": true
   },
   "outputs": [],
   "source": [
    "classes = np.array(range(1,10))"
   ]
  },
  {
   "cell_type": "code",
   "execution_count": 18,
   "metadata": {
    "collapsed": true
   },
   "outputs": [],
   "source": [
    "preds = classes[pred_indices]"
   ]
  },
  {
   "cell_type": "code",
   "execution_count": 19,
   "metadata": {},
   "outputs": [
    {
     "name": "stderr",
     "output_type": "stream",
     "text": [
      "/share/pkg/python/3.6_intel-2018.1.023/install/intelpython3/lib/python3.6/site-packages/sklearn/utils/deprecation.py:75: DeprecationWarning: Function plot_confusion_matrix is deprecated; This will be removed in v0.4.0. Please use scikitplot.metrics.plot_confusion_matrix instead.\n",
      "  warnings.warn(msg, category=DeprecationWarning)\n"
     ]
    },
    {
     "data": {
      "text/plain": [
       "<matplotlib.axes._subplots.AxesSubplot at 0x2b70900b3080>"
      ]
     },
     "execution_count": 19,
     "metadata": {},
     "output_type": "execute_result"
    }
   ],
   "source": [
    "skplt.plot_confusion_matrix(classes[np.argmax(y_test,axis=1)],preds)"
   ]
  },
  {
   "cell_type": "code",
   "execution_count": 20,
   "metadata": {},
   "outputs": [
    {
     "data": {
      "image/png": "[encoded data removed]",
      "text/plain": [
       "<matplotlib.figure.Figure at 0x2b702375dda0>"
      ]
     },
     "metadata": {},
     "output_type": "display_data"
    }
   ],
   "source": [
    "plt.show()"
   ]
  },
  {
   "cell_type": "code",
   "execution_count": 21,
   "metadata": {},
   "outputs": [
    {
     "data": {
      "text/plain": [
       "<matplotlib.legend.Legend at 0x2b7090c36d30>"
      ]
     },
     "execution_count": 21,
     "metadata": {},
     "output_type": "execute_result"
    }
   ],
   "source": [
    "# summarize history for accuracy\n",
    "plt.plot(estimator.history['acc'])\n",
    "plt.plot(estimator.history['val_acc'])\n",
    "plt.title('model accuracy')\n",
    "plt.ylabel('accuracy')\n",
    "plt.xlabel('epoch')\n",
    "plt.legend(['train', 'valid'], loc='upper left')"
   ]
  },
  {
   "cell_type": "code",
   "execution_count": 22,
   "metadata": {},
   "outputs": [
    {
     "data": {
      "image/png": "[encoded data removed]",
      "text/plain": [
       "<matplotlib.figure.Figure at 0x2b7090bbdcc0>"
      ]
     },
     "metadata": {},
     "output_type": "display_data"
    }
   ],
   "source": [
    "plt.show()"
   ]
  },
  {
   "cell_type": "code",
   "execution_count": 25,
   "metadata": {
    "collapsed": true
   },
   "outputs": [],
   "source": [
    "y_pred = model.predict_proba(test_set)"
   ]
  },
  {
   "cell_type": "code",
   "execution_count": 26,
   "metadata": {},
   "outputs": [
    {
     "data": {
      "text/html": [
       "<div>\n",
       "<style>\n",
       "    .dataframe thead tr:only-child th {\n",
       "        text-align: right;\n",
       "    }\n",
       "\n",
       "    .dataframe thead th {\n",
       "        text-align: left;\n",
       "    }\n",
       "\n",
       "    .dataframe tbody tr th {\n",
       "        vertical-align: top;\n",
       "    }\n",
       "</style>\n",
       "<table border=\"1\" class=\"dataframe\">\n",
       "  <thead>\n",
       "    <tr style=\"text-align: right;\">\n",
       "      <th></th>\n",
       "      <th>class1</th>\n",
       "      <th>class2</th>\n",
       "      <th>class3</th>\n",
       "      <th>class4</th>\n",
       "      <th>class5</th>\n",
       "      <th>class6</th>\n",
       "      <th>class7</th>\n",
       "      <th>class8</th>\n",
       "      <th>class9</th>\n",
       "      <th>id</th>\n",
       "    </tr>\n",
       "  </thead>\n",
       "  <tbody>\n",
       "    <tr>\n",
       "      <th>0</th>\n",
       "      <td>0.000156</td>\n",
       "      <td>0.336456</td>\n",
       "      <td>0.001312</td>\n",
       "      <td>4.300148e-05</td>\n",
       "      <td>0.003134</td>\n",
       "      <td>0.000954</td>\n",
       "      <td>0.657555</td>\n",
       "      <td>0.000297</td>\n",
       "      <td>0.000093</td>\n",
       "      <td>0</td>\n",
       "    </tr>\n",
       "    <tr>\n",
       "      <th>1</th>\n",
       "      <td>0.221481</td>\n",
       "      <td>0.002154</td>\n",
       "      <td>0.001216</td>\n",
       "      <td>7.692126e-01</td>\n",
       "      <td>0.002006</td>\n",
       "      <td>0.002409</td>\n",
       "      <td>0.000617</td>\n",
       "      <td>0.000372</td>\n",
       "      <td>0.000533</td>\n",
       "      <td>1</td>\n",
       "    </tr>\n",
       "    <tr>\n",
       "      <th>2</th>\n",
       "      <td>0.089407</td>\n",
       "      <td>0.008209</td>\n",
       "      <td>0.061590</td>\n",
       "      <td>5.904401e-02</td>\n",
       "      <td>0.180753</td>\n",
       "      <td>0.154204</td>\n",
       "      <td>0.443928</td>\n",
       "      <td>0.002117</td>\n",
       "      <td>0.000750</td>\n",
       "      <td>2</td>\n",
       "    </tr>\n",
       "    <tr>\n",
       "      <th>3</th>\n",
       "      <td>0.000144</td>\n",
       "      <td>0.470636</td>\n",
       "      <td>0.000031</td>\n",
       "      <td>6.828162e-07</td>\n",
       "      <td>0.005381</td>\n",
       "      <td>0.003302</td>\n",
       "      <td>0.520457</td>\n",
       "      <td>0.000041</td>\n",
       "      <td>0.000005</td>\n",
       "      <td>3</td>\n",
       "    </tr>\n",
       "    <tr>\n",
       "      <th>4</th>\n",
       "      <td>0.832322</td>\n",
       "      <td>0.001929</td>\n",
       "      <td>0.001686</td>\n",
       "      <td>1.559165e-01</td>\n",
       "      <td>0.004979</td>\n",
       "      <td>0.000793</td>\n",
       "      <td>0.001342</td>\n",
       "      <td>0.000570</td>\n",
       "      <td>0.000463</td>\n",
       "      <td>4</td>\n",
       "    </tr>\n",
       "  </tbody>\n",
       "</table>\n",
       "</div>"
      ],
      "text/plain": [
       "     class1    class2    class3        class4    class5    class6    class7  \\\n",
       "0  0.000156  0.336456  0.001312  4.300148e-05  0.003134  0.000954  0.657555   \n",
       "1  0.221481  0.002154  0.001216  7.692126e-01  0.002006  0.002409  0.000617   \n",
       "2  0.089407  0.008209  0.061590  5.904401e-02  0.180753  0.154204  0.443928   \n",
       "3  0.000144  0.470636  0.000031  6.828162e-07  0.005381  0.003302  0.520457   \n",
       "4  0.832322  0.001929  0.001686  1.559165e-01  0.004979  0.000793  0.001342   \n",
       "\n",
       "     class8    class9  id  \n",
       "0  0.000297  0.000093   0  \n",
       "1  0.000372  0.000533   1  \n",
       "2  0.002117  0.000750   2  \n",
       "3  0.000041  0.000005   3  \n",
       "4  0.000570  0.000463   4  "
      ]
     },
     "execution_count": 26,
     "metadata": {},
     "output_type": "execute_result"
    }
   ],
   "source": [
    "# Make Submission File\n",
    "\n",
    "# In[17]:\n",
    "\n",
    "\n",
    "submission = pd.DataFrame(y_pred)\n",
    "submission['id'] = test_index\n",
    "submission.columns = ['class1', 'class2', 'class3', 'class4', 'class5', 'class6', 'class7', 'class8', 'class9', 'id']\n",
    "submission.to_csv(\"submission_all.csv\",index=False)\n",
    "submission.head()"
   ]
  },
  {
   "cell_type": "code",
   "execution_count": 27,
   "metadata": {},
   "outputs": [
    {
     "data": {
      "image/png": "[encoded data removed]",
      "text/plain": [
       "<matplotlib.figure.Figure at 0x2b7090d58748>"
      ]
     },
     "metadata": {},
     "output_type": "display_data"
    }
   ],
   "source": [
    "##Make normalized bar graph of input/output class frequency\n",
    "\n",
    "\n",
    "inpt = pd.read_csv(\"../input/training_variants\")\n",
    "inpt = inpt['Class']\n",
    "inpt = list(inpt)\n",
    "u,c = np.unique(inpt,return_counts=True)\n",
    "input_dict = dict(zip(u,c))\n",
    "\n",
    "out = pd.read_csv('./submission_all.csv')\n",
    "out = out.drop('id',axis=1)\n",
    "out = out.T\n",
    "\n",
    "lookup = {'class1' : 1, 'class2' : 2, 'class3' : 3, 'class4' : 4,\n",
    "\t\t  'class5' : 5, 'class6' : 6, 'class7' : 7, 'class8' : 8,\n",
    "\t\t  'class9' : 9}\n",
    "\n",
    "output = []\n",
    "for i in range(len(out.T)):\n",
    "\toutput.append(lookup[np.argmax(out[i])])\n",
    "\n",
    "u,c = np.unique(output,return_counts=True)\n",
    "output_dict = dict(zip(u,c))\n",
    "\n",
    "x = 0\n",
    "for e in output_dict.values():\n",
    "\tx += e\n",
    "\n",
    "y =\t0\n",
    "for e in input_dict.values():\n",
    "\ty += e\n",
    "\t\n",
    "factor = y/x\n",
    "\n",
    "for key in output_dict.keys():\n",
    "\toutput_dict[key] = output_dict[key] * factor\n",
    "\n",
    "out_vals = []\n",
    "for i in range(1,10):\n",
    "\tif i not in output_dict:\n",
    "\t\toutput_dict[i] = 0\n",
    "\tout_vals.append(output_dict[i])\n",
    "\n",
    "x = range(1,10)\n",
    "in_bars = []\n",
    "out_bars = []\n",
    "for i in x:\n",
    "\tin_bars.append(i-0.1)\n",
    "\tout_bars.append(i+0.1)\n",
    "\t\n",
    "ax = plt.subplot(111)\n",
    "ax.bar(in_bars,input_dict.values(),width=0.2,color='b',align='center')\n",
    "ax.bar(out_bars,out_vals,width=0.2,color='r',align='center')\n",
    "plt.show()"
   ]
  },
  {
   "cell_type": "code",
   "execution_count": null,
   "metadata": {
    "collapsed": true
   },
   "outputs": [],
   "source": []
  }
 ],
 "metadata": {
  "kernelspec": {
   "display_name": "Python 3",
   "language": "python",
   "name": "python3"
  },
  "language_info": {
   "codemirror_mode": {
    "name": "ipython",
    "version": 3
   },
   "file_extension": ".py",
   "mimetype": "text/x-python",
   "name": "python",
   "nbconvert_exporter": "python",
   "pygments_lexer": "ipython3",
   "version": "3.6.3"
  }
 },
 "nbformat": 4,
 "nbformat_minor": 2
}
